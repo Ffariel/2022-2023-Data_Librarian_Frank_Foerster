{
 "cells": [
  {
   "cell_type": "code",
   "execution_count": 84,
   "id": "0ecc8c07",
   "metadata": {},
   "outputs": [],
   "source": [
    "import urllib.request\n",
    "import pandas as pd"
   ]
  },
  {
   "cell_type": "code",
   "execution_count": 85,
   "id": "67a0c174",
   "metadata": {},
   "outputs": [
    {
     "data": {
      "text/plain": [
       "('checkout.csv', <http.client.HTTPMessage at 0x7fed340aea00>)"
      ]
     },
     "execution_count": 85,
     "metadata": {},
     "output_type": "execute_result"
    }
   ],
   "source": [
    "url = \"https://data.seattle.gov/resource/tmmm-ytt6.csv?$where=checkoutyear=2018&$limit=10000\"\n",
    "checkout_file = \"checkout.csv\"\n",
    "urllib.request.urlretrieve(url, checkout_file)"
   ]
  },
  {
   "cell_type": "code",
   "execution_count": 86,
   "id": "8511e5c2",
   "metadata": {},
   "outputs": [],
   "source": [
    "checkouts_df = pd.read_csv(checkout_file)"
   ]
  },
  {
   "cell_type": "code",
   "execution_count": 87,
   "id": "dca6a0d6",
   "metadata": {},
   "outputs": [
    {
     "data": {
      "text/html": [
       "<div>\n",
       "<style scoped>\n",
       "    .dataframe tbody tr th:only-of-type {\n",
       "        vertical-align: middle;\n",
       "    }\n",
       "\n",
       "    .dataframe tbody tr th {\n",
       "        vertical-align: top;\n",
       "    }\n",
       "\n",
       "    .dataframe thead th {\n",
       "        text-align: right;\n",
       "    }\n",
       "</style>\n",
       "<table border=\"1\" class=\"dataframe\">\n",
       "  <thead>\n",
       "    <tr style=\"text-align: right;\">\n",
       "      <th></th>\n",
       "      <th>usageclass</th>\n",
       "      <th>checkouttype</th>\n",
       "      <th>materialtype</th>\n",
       "      <th>checkoutyear</th>\n",
       "      <th>checkoutmonth</th>\n",
       "      <th>checkouts</th>\n",
       "      <th>title</th>\n",
       "      <th>isbn</th>\n",
       "      <th>creator</th>\n",
       "      <th>subjects</th>\n",
       "      <th>publisher</th>\n",
       "      <th>publicationyear</th>\n",
       "    </tr>\n",
       "  </thead>\n",
       "  <tbody>\n",
       "    <tr>\n",
       "      <th>0</th>\n",
       "      <td>Digital</td>\n",
       "      <td>OverDrive</td>\n",
       "      <td>EBOOK</td>\n",
       "      <td>2018</td>\n",
       "      <td>1</td>\n",
       "      <td>22</td>\n",
       "      <td>Enemy of the State</td>\n",
       "      <td>NaN</td>\n",
       "      <td>Vince Flynn</td>\n",
       "      <td>Fiction, Literature, Thriller</td>\n",
       "      <td>Simon &amp; Schuster, Inc.</td>\n",
       "      <td>2017</td>\n",
       "    </tr>\n",
       "    <tr>\n",
       "      <th>1</th>\n",
       "      <td>Digital</td>\n",
       "      <td>Hoopla</td>\n",
       "      <td>TELEVISION</td>\n",
       "      <td>2018</td>\n",
       "      <td>1</td>\n",
       "      <td>1</td>\n",
       "      <td>Newspaper Mom / Cucumber in Rio / Donut Raffle</td>\n",
       "      <td>NaN</td>\n",
       "      <td>NaN</td>\n",
       "      <td>Children's</td>\n",
       "      <td>DHX Media</td>\n",
       "      <td>NaN</td>\n",
       "    </tr>\n",
       "    <tr>\n",
       "      <th>2</th>\n",
       "      <td>Physical</td>\n",
       "      <td>Horizon</td>\n",
       "      <td>SOUNDDISC</td>\n",
       "      <td>2018</td>\n",
       "      <td>1</td>\n",
       "      <td>1</td>\n",
       "      <td>Mono / the Mavericks.</td>\n",
       "      <td>NaN</td>\n",
       "      <td>Mavericks (Musical group)</td>\n",
       "      <td>Country music 2011 2020</td>\n",
       "      <td>Valory,</td>\n",
       "      <td>[2015]</td>\n",
       "    </tr>\n",
       "    <tr>\n",
       "      <th>3</th>\n",
       "      <td>Digital</td>\n",
       "      <td>OverDrive</td>\n",
       "      <td>EBOOK</td>\n",
       "      <td>2018</td>\n",
       "      <td>1</td>\n",
       "      <td>2</td>\n",
       "      <td>Anna Karenina</td>\n",
       "      <td>NaN</td>\n",
       "      <td>Leo Tolstoy</td>\n",
       "      <td>Classic Literature, Fiction, Literature</td>\n",
       "      <td>Penguin Group (USA), Inc.</td>\n",
       "      <td>2009</td>\n",
       "    </tr>\n",
       "    <tr>\n",
       "      <th>4</th>\n",
       "      <td>Digital</td>\n",
       "      <td>OverDrive</td>\n",
       "      <td>EBOOK</td>\n",
       "      <td>2018</td>\n",
       "      <td>1</td>\n",
       "      <td>1</td>\n",
       "      <td>Dragon: Vlad Series, Book 8</td>\n",
       "      <td>NaN</td>\n",
       "      <td>Steven Brust</td>\n",
       "      <td>Fantasy, Fiction</td>\n",
       "      <td>Macmillan Publishers</td>\n",
       "      <td>2015</td>\n",
       "    </tr>\n",
       "    <tr>\n",
       "      <th>...</th>\n",
       "      <td>...</td>\n",
       "      <td>...</td>\n",
       "      <td>...</td>\n",
       "      <td>...</td>\n",
       "      <td>...</td>\n",
       "      <td>...</td>\n",
       "      <td>...</td>\n",
       "      <td>...</td>\n",
       "      <td>...</td>\n",
       "      <td>...</td>\n",
       "      <td>...</td>\n",
       "      <td>...</td>\n",
       "    </tr>\n",
       "    <tr>\n",
       "      <th>9995</th>\n",
       "      <td>Digital</td>\n",
       "      <td>OverDrive</td>\n",
       "      <td>EBOOK</td>\n",
       "      <td>2018</td>\n",
       "      <td>1</td>\n",
       "      <td>1</td>\n",
       "      <td>Immortal: Fallen Angels Series, Book 6</td>\n",
       "      <td>NaN</td>\n",
       "      <td>J.R. Ward</td>\n",
       "      <td>Fantasy, Fiction, Romance</td>\n",
       "      <td>Penguin Group (USA), Inc.</td>\n",
       "      <td>2014</td>\n",
       "    </tr>\n",
       "    <tr>\n",
       "      <th>9996</th>\n",
       "      <td>Digital</td>\n",
       "      <td>OverDrive</td>\n",
       "      <td>EBOOK</td>\n",
       "      <td>2018</td>\n",
       "      <td>1</td>\n",
       "      <td>1</td>\n",
       "      <td>The Price of Silence</td>\n",
       "      <td>NaN</td>\n",
       "      <td>Kate Wilhelm</td>\n",
       "      <td>Fiction, Suspense, Thriller</td>\n",
       "      <td>Harlequin Enterprises, Ltd.</td>\n",
       "      <td>2011</td>\n",
       "    </tr>\n",
       "    <tr>\n",
       "      <th>9997</th>\n",
       "      <td>Digital</td>\n",
       "      <td>Freegal</td>\n",
       "      <td>SONG</td>\n",
       "      <td>2018</td>\n",
       "      <td>1</td>\n",
       "      <td>1</td>\n",
       "      <td>Desert Hideaway</td>\n",
       "      <td>NaN</td>\n",
       "      <td>NaN</td>\n",
       "      <td>NaN</td>\n",
       "      <td>NaN</td>\n",
       "      <td>NaN</td>\n",
       "    </tr>\n",
       "    <tr>\n",
       "      <th>9998</th>\n",
       "      <td>Physical</td>\n",
       "      <td>Horizon</td>\n",
       "      <td>BOOK</td>\n",
       "      <td>2018</td>\n",
       "      <td>1</td>\n",
       "      <td>3</td>\n",
       "      <td>Waistcoats &amp; weaponry / Gail Carriger.</td>\n",
       "      <td>NaN</td>\n",
       "      <td>Carriger, Gail</td>\n",
       "      <td>Boarding schools Fiction, Schools Fiction, Eti...</td>\n",
       "      <td>Little, Brown and Company,</td>\n",
       "      <td>2014.</td>\n",
       "    </tr>\n",
       "    <tr>\n",
       "      <th>9999</th>\n",
       "      <td>Physical</td>\n",
       "      <td>Horizon</td>\n",
       "      <td>SOUNDDISC</td>\n",
       "      <td>2018</td>\n",
       "      <td>1</td>\n",
       "      <td>1</td>\n",
       "      <td>Red moon rising : [Sputnik and the hidden riva...</td>\n",
       "      <td>NaN</td>\n",
       "      <td>Brzezinski, Matthew, 1965-</td>\n",
       "      <td>Space race United States History 20th century,...</td>\n",
       "      <td>HighBridge,</td>\n",
       "      <td>[2007]</td>\n",
       "    </tr>\n",
       "  </tbody>\n",
       "</table>\n",
       "<p>10000 rows × 12 columns</p>\n",
       "</div>"
      ],
      "text/plain": [
       "     usageclass checkouttype materialtype  checkoutyear  checkoutmonth  \\\n",
       "0       Digital    OverDrive        EBOOK          2018              1   \n",
       "1       Digital       Hoopla   TELEVISION          2018              1   \n",
       "2      Physical      Horizon    SOUNDDISC          2018              1   \n",
       "3       Digital    OverDrive        EBOOK          2018              1   \n",
       "4       Digital    OverDrive        EBOOK          2018              1   \n",
       "...         ...          ...          ...           ...            ...   \n",
       "9995    Digital    OverDrive        EBOOK          2018              1   \n",
       "9996    Digital    OverDrive        EBOOK          2018              1   \n",
       "9997    Digital      Freegal         SONG          2018              1   \n",
       "9998   Physical      Horizon         BOOK          2018              1   \n",
       "9999   Physical      Horizon    SOUNDDISC          2018              1   \n",
       "\n",
       "      checkouts                                              title  isbn  \\\n",
       "0            22                                 Enemy of the State   NaN   \n",
       "1             1     Newspaper Mom / Cucumber in Rio / Donut Raffle   NaN   \n",
       "2             1                              Mono / the Mavericks.   NaN   \n",
       "3             2                                      Anna Karenina   NaN   \n",
       "4             1                        Dragon: Vlad Series, Book 8   NaN   \n",
       "...         ...                                                ...   ...   \n",
       "9995          1             Immortal: Fallen Angels Series, Book 6   NaN   \n",
       "9996          1                               The Price of Silence   NaN   \n",
       "9997          1                                    Desert Hideaway   NaN   \n",
       "9998          3             Waistcoats & weaponry / Gail Carriger.   NaN   \n",
       "9999          1  Red moon rising : [Sputnik and the hidden riva...   NaN   \n",
       "\n",
       "                         creator  \\\n",
       "0                    Vince Flynn   \n",
       "1                            NaN   \n",
       "2      Mavericks (Musical group)   \n",
       "3                    Leo Tolstoy   \n",
       "4                   Steven Brust   \n",
       "...                          ...   \n",
       "9995                   J.R. Ward   \n",
       "9996                Kate Wilhelm   \n",
       "9997                         NaN   \n",
       "9998              Carriger, Gail   \n",
       "9999  Brzezinski, Matthew, 1965-   \n",
       "\n",
       "                                               subjects  \\\n",
       "0                         Fiction, Literature, Thriller   \n",
       "1                                            Children's   \n",
       "2                               Country music 2011 2020   \n",
       "3               Classic Literature, Fiction, Literature   \n",
       "4                                      Fantasy, Fiction   \n",
       "...                                                 ...   \n",
       "9995                          Fantasy, Fiction, Romance   \n",
       "9996                        Fiction, Suspense, Thriller   \n",
       "9997                                                NaN   \n",
       "9998  Boarding schools Fiction, Schools Fiction, Eti...   \n",
       "9999  Space race United States History 20th century,...   \n",
       "\n",
       "                        publisher publicationyear  \n",
       "0          Simon & Schuster, Inc.            2017  \n",
       "1                       DHX Media             NaN  \n",
       "2                         Valory,          [2015]  \n",
       "3       Penguin Group (USA), Inc.            2009  \n",
       "4            Macmillan Publishers            2015  \n",
       "...                           ...             ...  \n",
       "9995    Penguin Group (USA), Inc.            2014  \n",
       "9996  Harlequin Enterprises, Ltd.            2011  \n",
       "9997                          NaN             NaN  \n",
       "9998   Little, Brown and Company,           2014.  \n",
       "9999                  HighBridge,          [2007]  \n",
       "\n",
       "[10000 rows x 12 columns]"
      ]
     },
     "execution_count": 87,
     "metadata": {},
     "output_type": "execute_result"
    }
   ],
   "source": [
    "checkouts_df"
   ]
  },
  {
   "cell_type": "code",
   "execution_count": 88,
   "id": "e1c71997",
   "metadata": {},
   "outputs": [
    {
     "data": {
      "text/plain": [
       "(10000, 12)"
      ]
     },
     "execution_count": 88,
     "metadata": {},
     "output_type": "execute_result"
    }
   ],
   "source": [
    "checkouts_df.shape"
   ]
  },
  {
   "cell_type": "code",
   "execution_count": 89,
   "id": "ee3d14d4",
   "metadata": {},
   "outputs": [
    {
     "data": {
      "text/plain": [
       "Random House, Inc.                                           439\n",
       "HarperCollins Publishers Inc.                                340\n",
       "Penguin Group (USA), Inc.                                    313\n",
       "Books on Tape                                                201\n",
       "Blackstone Audio, Inc.                                       192\n",
       "                                                            ... \n",
       "Knopf,                                                         1\n",
       "Severn House Publishers L,                                     1\n",
       "Grosset & Dunlap, an imprint of Penguin Group (USA) Inc.,      1\n",
       "Cleis,                                                         1\n",
       "HighBridge,                                                    1\n",
       "Name: publisher, Length: 2987, dtype: int64"
      ]
     },
     "execution_count": 89,
     "metadata": {},
     "output_type": "execute_result"
    }
   ],
   "source": [
    "#Verlage: Anzahl pro Verlag zählen\n",
    "checkouts_df[\"publisher\"].value_counts()"
   ]
  },
  {
   "cell_type": "code",
   "execution_count": 90,
   "id": "7db7e270",
   "metadata": {},
   "outputs": [
    {
     "data": {
      "text/plain": [
       "<AxesSubplot:>"
      ]
     },
     "execution_count": 90,
     "metadata": {},
     "output_type": "execute_result"
    },
    {
     "data": {
      "image/png": "[encoded data removed]",
      "text/plain": [
       "<Figure size 640x480 with 1 Axes>"
      ]
     },
     "metadata": {},
     "output_type": "display_data"
    }
   ],
   "source": [
    "#Verlag=Random House. Wie verteilen sich die Anzahl der Veröffentlichungen pro Jahr (unsortiert)\n",
    "checkouts_df[checkouts_df[\"publisher\"]=='Random House, Inc.'][\"publicationyear\"].hist()"
   ]
  },
  {
   "cell_type": "code",
   "execution_count": 91,
   "id": "c8a82fb4",
   "metadata": {},
   "outputs": [
    {
     "data": {
      "text/plain": [
       "<AxesSubplot:>"
      ]
     },
     "execution_count": 91,
     "metadata": {},
     "output_type": "execute_result"
    },
    {
     "data": {
      "image/png": "[encoded data removed]",
      "text/plain": [
       "<Figure size 640x480 with 1 Axes>"
      ]
     },
     "metadata": {},
     "output_type": "display_data"
    }
   ],
   "source": [
    "#neuen Dataframe nur mit Verlag=Random House. Verteilung der Anzahl pro Jahr, diesmal aufsteigend sortiert\n",
    "checkouts_df_random=checkouts_df[checkouts_df[\"publisher\"]=='Random House, Inc.']\n",
    "#checkouts_df_random.sort_values('publicationyear')\n",
    "checkouts_df_random.sort_values('publicationyear')[\"publicationyear\"].hist()"
   ]
  },
  {
   "cell_type": "code",
   "execution_count": 120,
   "id": "d83dfc69",
   "metadata": {},
   "outputs": [
    {
     "data": {
      "text/plain": [
       "<AxesSubplot:ylabel='checkouttype'>"
      ]
     },
     "execution_count": 120,
     "metadata": {},
     "output_type": "execute_result"
    },
    {
     "data": {
      "image/png": "[encoded data removed]",
      "text/plain": [
       "<Figure size 640x480 with 1 Axes>"
      ]
     },
     "metadata": {},
     "output_type": "display_data"
    }
   ],
   "source": [
    "#Tortendiagramm für den Checkouttype\n",
    "checkouts_df[\"checkouttype\"].value_counts().plot(kind=\"pie\")"
   ]
  },
  {
   "cell_type": "code",
   "execution_count": 117,
   "id": "5a1030eb",
   "metadata": {},
   "outputs": [
    {
     "data": {
      "text/plain": [
       "<AxesSubplot:>"
      ]
     },
     "execution_count": 117,
     "metadata": {},
     "output_type": "execute_result"
    },
    {
     "data": {
      "image/png": "[encoded data removed]",
      "text/plain": [
       "<Figure size 640x480 with 1 Axes>"
      ]
     },
     "metadata": {},
     "output_type": "display_data"
    }
   ],
   "source": [
    "#Histogramm für die Usageclass\n",
    "checkouts_df[\"usageclass\"].hist()"
   ]
  },
  {
   "cell_type": "code",
   "execution_count": 134,
   "id": "2ba212ff",
   "metadata": {},
   "outputs": [
    {
     "data": {
      "text/plain": [
       "<AxesSubplot:>"
      ]
     },
     "execution_count": 134,
     "metadata": {},
     "output_type": "execute_result"
    },
    {
     "data": {
      "image/png": "[encoded data removed]",
      "text/plain": [
       "<Figure size 640x480 with 1 Axes>"
      ]
     },
     "metadata": {},
     "output_type": "display_data"
    }
   ],
   "source": [
    "checkouts_df[checkouts_df[\"usageclass\"]=='Digital'][\"checkouttype\"].hist()\n",
    "checkouts_df[checkouts_df[\"usageclass\"]=='Physical'][\"checkouttype\"].hist()"
   ]
  },
  {
   "cell_type": "code",
   "execution_count": null,
   "id": "84cf05e1",
   "metadata": {},
   "outputs": [],
   "source": []
  }
 ],
 "metadata": {
  "kernelspec": {
   "display_name": "Python 3 (ipykernel)",
   "language": "python",
   "name": "python3"
  },
  "language_info": {
   "codemirror_mode": {
    "name": "ipython",
    "version": 3
   },
   "file_extension": ".py",
   "mimetype": "text/x-python",
   "name": "python",
   "nbconvert_exporter": "python",
   "pygments_lexer": "ipython3",
   "version": "3.9.13"
  }
 },
 "nbformat": 4,
 "nbformat_minor": 5
}
