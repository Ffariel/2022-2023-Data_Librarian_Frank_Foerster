{
 "cells": [
  {
   "cell_type": "code",
   "execution_count": 1,
   "id": "164aee3e",
   "metadata": {},
   "outputs": [],
   "source": [
    "import pandas as pd"
   ]
  },
  {
   "cell_type": "code",
   "execution_count": 2,
   "id": "aaac71ed",
   "metadata": {},
   "outputs": [],
   "source": [
    "list_of_strings = [\"Value 1\", \"Value 2\", \"Value 3\", \"Value 4\"]\n",
    "list_of_integers = [1, 3, 6, 7]"
   ]
  },
  {
   "cell_type": "code",
   "execution_count": 3,
   "id": "7735a96b",
   "metadata": {},
   "outputs": [],
   "source": [
    "series_of_strings = pd.Series(list_of_strings)"
   ]
  },
  {
   "cell_type": "code",
   "execution_count": 4,
   "id": "b8a1b597",
   "metadata": {},
   "outputs": [
    {
     "name": "stdout",
     "output_type": "stream",
     "text": [
      "0    Value 1\n",
      "1    Value 2\n",
      "2    Value 3\n",
      "3    Value 4\n",
      "dtype: object\n"
     ]
    }
   ],
   "source": [
    "print(series_of_strings)"
   ]
  },
  {
   "cell_type": "code",
   "execution_count": 5,
   "id": "66b9b8fd",
   "metadata": {},
   "outputs": [],
   "source": [
    "labeled_series = pd.Series(list_of_integers, index = list_of_strings)"
   ]
  },
  {
   "cell_type": "code",
   "execution_count": 6,
   "id": "c0c7722f",
   "metadata": {},
   "outputs": [
    {
     "name": "stdout",
     "output_type": "stream",
     "text": [
      "Value 1    1\n",
      "Value 2    3\n",
      "Value 3    6\n",
      "Value 4    7\n",
      "dtype: int64\n"
     ]
    }
   ],
   "source": [
    "print(labeled_series)"
   ]
  },
  {
   "cell_type": "code",
   "execution_count": 21,
   "id": "bf0cd499",
   "metadata": {},
   "outputs": [
    {
     "name": "stdout",
     "output_type": "stream",
     "text": [
      "Tag 1    120\n",
      "Tag 2    330\n",
      "Tag 3    250\n",
      "Tag 4    270\n",
      "dtype: int64\n"
     ]
    }
   ],
   "source": [
    "verkaeufe = {\"Tag 1\": 120, \"Tag 2\": 330, \"Tag 3\": 250, \"Tag 4\": 270}\n",
    "series_verkaeufe = pd.Series(verkaeufe)\n",
    "print(series_verkaeufe)"
   ]
  },
  {
   "cell_type": "code",
   "execution_count": 22,
   "id": "e2574736",
   "metadata": {},
   "outputs": [
    {
     "data": {
      "text/plain": [
       "330"
      ]
     },
     "execution_count": 22,
     "metadata": {},
     "output_type": "execute_result"
    }
   ],
   "source": [
    "series_verkaeufe[\"Tag 2\"]"
   ]
  },
  {
   "cell_type": "code",
   "execution_count": 23,
   "id": "37e67ca2",
   "metadata": {},
   "outputs": [
    {
     "data": {
      "text/plain": [
       "330"
      ]
     },
     "execution_count": 23,
     "metadata": {},
     "output_type": "execute_result"
    }
   ],
   "source": [
    "series_verkaeufe[1]"
   ]
  },
  {
   "cell_type": "code",
   "execution_count": 24,
   "id": "e0cf2746",
   "metadata": {},
   "outputs": [
    {
     "data": {
      "text/plain": [
       "[120, 330, 250, 270]"
      ]
     },
     "execution_count": 24,
     "metadata": {},
     "output_type": "execute_result"
    }
   ],
   "source": [
    "series_verkaeufe.to_list()"
   ]
  },
  {
   "cell_type": "code",
   "execution_count": 25,
   "id": "77a525ec",
   "metadata": {},
   "outputs": [
    {
     "name": "stdout",
     "output_type": "stream",
     "text": [
      "120\n",
      "330\n",
      "250\n",
      "270\n"
     ]
    }
   ],
   "source": [
    "for value in series_verkaeufe:\n",
    "    print(value)"
   ]
  },
  {
   "cell_type": "code",
   "execution_count": 26,
   "id": "8ea5a3d0",
   "metadata": {},
   "outputs": [
    {
     "data": {
      "text/html": [
       "<div>\n",
       "<style scoped>\n",
       "    .dataframe tbody tr th:only-of-type {\n",
       "        vertical-align: middle;\n",
       "    }\n",
       "\n",
       "    .dataframe tbody tr th {\n",
       "        vertical-align: top;\n",
       "    }\n",
       "\n",
       "    .dataframe thead th {\n",
       "        text-align: right;\n",
       "    }\n",
       "</style>\n",
       "<table border=\"1\" class=\"dataframe\">\n",
       "  <thead>\n",
       "    <tr style=\"text-align: right;\">\n",
       "      <th></th>\n",
       "      <th>list1</th>\n",
       "      <th>list2</th>\n",
       "    </tr>\n",
       "  </thead>\n",
       "  <tbody>\n",
       "    <tr>\n",
       "      <th>0</th>\n",
       "      <td>420</td>\n",
       "      <td>50</td>\n",
       "    </tr>\n",
       "    <tr>\n",
       "      <th>1</th>\n",
       "      <td>380</td>\n",
       "      <td>40</td>\n",
       "    </tr>\n",
       "    <tr>\n",
       "      <th>2</th>\n",
       "      <td>390</td>\n",
       "      <td>45</td>\n",
       "    </tr>\n",
       "  </tbody>\n",
       "</table>\n",
       "</div>"
      ],
      "text/plain": [
       "   list1  list2\n",
       "0    420     50\n",
       "1    380     40\n",
       "2    390     45"
      ]
     },
     "execution_count": 26,
     "metadata": {},
     "output_type": "execute_result"
    }
   ],
   "source": [
    "data1 = {\n",
    "    \"list1\": [420, 380, 390],\n",
    "    \"list2\": [50, 40, 45]\n",
    "}\n",
    "\n",
    "df_1 = pd.DataFrame(data1)\n",
    "\n",
    "df_1"
   ]
  },
  {
   "cell_type": "code",
   "execution_count": 32,
   "id": "f3d95aab",
   "metadata": {},
   "outputs": [],
   "source": [
    "einnahmen = {\"Tag 1\": 450, \"Tag 2\": 1210, \"Tag 3\": 760, \"Tag 4\": 950, \"Tag 5\": 350}"
   ]
  },
  {
   "cell_type": "code",
   "execution_count": 33,
   "id": "7e10b6f0",
   "metadata": {},
   "outputs": [],
   "source": [
    "df_4 = pd.DataFrame([verkaeufe,einnahmen], index = [\"Verkäufe\", \"Einnahmen\"])"
   ]
  },
  {
   "cell_type": "code",
   "execution_count": 34,
   "id": "3fec8a90",
   "metadata": {},
   "outputs": [
    {
     "data": {
      "text/html": [
       "<div>\n",
       "<style scoped>\n",
       "    .dataframe tbody tr th:only-of-type {\n",
       "        vertical-align: middle;\n",
       "    }\n",
       "\n",
       "    .dataframe tbody tr th {\n",
       "        vertical-align: top;\n",
       "    }\n",
       "\n",
       "    .dataframe thead th {\n",
       "        text-align: right;\n",
       "    }\n",
       "</style>\n",
       "<table border=\"1\" class=\"dataframe\">\n",
       "  <thead>\n",
       "    <tr style=\"text-align: right;\">\n",
       "      <th></th>\n",
       "      <th>Tag 1</th>\n",
       "      <th>Tag 2</th>\n",
       "      <th>Tag 3</th>\n",
       "      <th>Tag 4</th>\n",
       "      <th>Tag 5</th>\n",
       "    </tr>\n",
       "  </thead>\n",
       "  <tbody>\n",
       "    <tr>\n",
       "      <th>Verkäufe</th>\n",
       "      <td>120</td>\n",
       "      <td>330</td>\n",
       "      <td>250</td>\n",
       "      <td>270</td>\n",
       "      <td>NaN</td>\n",
       "    </tr>\n",
       "    <tr>\n",
       "      <th>Einnahmen</th>\n",
       "      <td>450</td>\n",
       "      <td>1210</td>\n",
       "      <td>760</td>\n",
       "      <td>950</td>\n",
       "      <td>350.0</td>\n",
       "    </tr>\n",
       "  </tbody>\n",
       "</table>\n",
       "</div>"
      ],
      "text/plain": [
       "           Tag 1  Tag 2  Tag 3  Tag 4  Tag 5\n",
       "Verkäufe     120    330    250    270    NaN\n",
       "Einnahmen    450   1210    760    950  350.0"
      ]
     },
     "execution_count": 34,
     "metadata": {},
     "output_type": "execute_result"
    }
   ],
   "source": [
    "df_4"
   ]
  },
  {
   "cell_type": "code",
   "execution_count": 35,
   "id": "ed764af2",
   "metadata": {},
   "outputs": [],
   "source": [
    "df_4_transposed = df_4.T"
   ]
  },
  {
   "cell_type": "code",
   "execution_count": 36,
   "id": "d30f3b87",
   "metadata": {},
   "outputs": [
    {
     "data": {
      "text/html": [
       "<div>\n",
       "<style scoped>\n",
       "    .dataframe tbody tr th:only-of-type {\n",
       "        vertical-align: middle;\n",
       "    }\n",
       "\n",
       "    .dataframe tbody tr th {\n",
       "        vertical-align: top;\n",
       "    }\n",
       "\n",
       "    .dataframe thead th {\n",
       "        text-align: right;\n",
       "    }\n",
       "</style>\n",
       "<table border=\"1\" class=\"dataframe\">\n",
       "  <thead>\n",
       "    <tr style=\"text-align: right;\">\n",
       "      <th></th>\n",
       "      <th>Verkäufe</th>\n",
       "      <th>Einnahmen</th>\n",
       "    </tr>\n",
       "  </thead>\n",
       "  <tbody>\n",
       "    <tr>\n",
       "      <th>Tag 1</th>\n",
       "      <td>120.0</td>\n",
       "      <td>450.0</td>\n",
       "    </tr>\n",
       "    <tr>\n",
       "      <th>Tag 2</th>\n",
       "      <td>330.0</td>\n",
       "      <td>1210.0</td>\n",
       "    </tr>\n",
       "    <tr>\n",
       "      <th>Tag 3</th>\n",
       "      <td>250.0</td>\n",
       "      <td>760.0</td>\n",
       "    </tr>\n",
       "    <tr>\n",
       "      <th>Tag 4</th>\n",
       "      <td>270.0</td>\n",
       "      <td>950.0</td>\n",
       "    </tr>\n",
       "    <tr>\n",
       "      <th>Tag 5</th>\n",
       "      <td>NaN</td>\n",
       "      <td>350.0</td>\n",
       "    </tr>\n",
       "  </tbody>\n",
       "</table>\n",
       "</div>"
      ],
      "text/plain": [
       "       Verkäufe  Einnahmen\n",
       "Tag 1     120.0      450.0\n",
       "Tag 2     330.0     1210.0\n",
       "Tag 3     250.0      760.0\n",
       "Tag 4     270.0      950.0\n",
       "Tag 5       NaN      350.0"
      ]
     },
     "execution_count": 36,
     "metadata": {},
     "output_type": "execute_result"
    }
   ],
   "source": [
    "df_4_transposed"
   ]
  },
  {
   "cell_type": "code",
   "execution_count": 37,
   "id": "60b90bb2",
   "metadata": {},
   "outputs": [
    {
     "name": "stdout",
     "output_type": "stream",
     "text": [
      "<class 'pandas.core.frame.DataFrame'>\n",
      "Index: 5 entries, Tag 1 to Tag 5\n",
      "Data columns (total 2 columns):\n",
      " #   Column     Non-Null Count  Dtype  \n",
      "---  ------     --------------  -----  \n",
      " 0   Verkäufe   4 non-null      float64\n",
      " 1   Einnahmen  5 non-null      float64\n",
      "dtypes: float64(2)\n",
      "memory usage: 292.0+ bytes\n"
     ]
    }
   ],
   "source": [
    "df_4_transposed.info()"
   ]
  },
  {
   "cell_type": "code",
   "execution_count": 38,
   "id": "1db7bc9f",
   "metadata": {},
   "outputs": [
    {
     "data": {
      "text/html": [
       "<div>\n",
       "<style scoped>\n",
       "    .dataframe tbody tr th:only-of-type {\n",
       "        vertical-align: middle;\n",
       "    }\n",
       "\n",
       "    .dataframe tbody tr th {\n",
       "        vertical-align: top;\n",
       "    }\n",
       "\n",
       "    .dataframe thead th {\n",
       "        text-align: right;\n",
       "    }\n",
       "</style>\n",
       "<table border=\"1\" class=\"dataframe\">\n",
       "  <thead>\n",
       "    <tr style=\"text-align: right;\">\n",
       "      <th></th>\n",
       "      <th>Verkäufe</th>\n",
       "      <th>Einnahmen</th>\n",
       "    </tr>\n",
       "  </thead>\n",
       "  <tbody>\n",
       "    <tr>\n",
       "      <th>count</th>\n",
       "      <td>4.00000</td>\n",
       "      <td>5.000000</td>\n",
       "    </tr>\n",
       "    <tr>\n",
       "      <th>mean</th>\n",
       "      <td>242.50000</td>\n",
       "      <td>744.000000</td>\n",
       "    </tr>\n",
       "    <tr>\n",
       "      <th>std</th>\n",
       "      <td>88.45903</td>\n",
       "      <td>354.090384</td>\n",
       "    </tr>\n",
       "    <tr>\n",
       "      <th>min</th>\n",
       "      <td>120.00000</td>\n",
       "      <td>350.000000</td>\n",
       "    </tr>\n",
       "    <tr>\n",
       "      <th>25%</th>\n",
       "      <td>217.50000</td>\n",
       "      <td>450.000000</td>\n",
       "    </tr>\n",
       "    <tr>\n",
       "      <th>50%</th>\n",
       "      <td>260.00000</td>\n",
       "      <td>760.000000</td>\n",
       "    </tr>\n",
       "    <tr>\n",
       "      <th>75%</th>\n",
       "      <td>285.00000</td>\n",
       "      <td>950.000000</td>\n",
       "    </tr>\n",
       "    <tr>\n",
       "      <th>max</th>\n",
       "      <td>330.00000</td>\n",
       "      <td>1210.000000</td>\n",
       "    </tr>\n",
       "  </tbody>\n",
       "</table>\n",
       "</div>"
      ],
      "text/plain": [
       "        Verkäufe    Einnahmen\n",
       "count    4.00000     5.000000\n",
       "mean   242.50000   744.000000\n",
       "std     88.45903   354.090384\n",
       "min    120.00000   350.000000\n",
       "25%    217.50000   450.000000\n",
       "50%    260.00000   760.000000\n",
       "75%    285.00000   950.000000\n",
       "max    330.00000  1210.000000"
      ]
     },
     "execution_count": 38,
     "metadata": {},
     "output_type": "execute_result"
    }
   ],
   "source": [
    "df_4_transposed.describe()"
   ]
  },
  {
   "cell_type": "code",
   "execution_count": 41,
   "id": "8e994438",
   "metadata": {},
   "outputs": [
    {
     "data": {
      "text/plain": [
       "Tag 1    120.0\n",
       "Tag 2    330.0\n",
       "Tag 3    250.0\n",
       "Tag 4    270.0\n",
       "Tag 5      NaN\n",
       "Name: Verkäufe, dtype: float64"
      ]
     },
     "execution_count": 41,
     "metadata": {},
     "output_type": "execute_result"
    }
   ],
   "source": [
    "df_4_transposed.Verkäufe"
   ]
  },
  {
   "cell_type": "code",
   "execution_count": 42,
   "id": "8ebcb3c9",
   "metadata": {},
   "outputs": [
    {
     "data": {
      "text/plain": [
       "Tag 1    120.0\n",
       "Tag 2    330.0\n",
       "Tag 3    250.0\n",
       "Tag 4    270.0\n",
       "Tag 5      NaN\n",
       "Name: Verkäufe, dtype: float64"
      ]
     },
     "execution_count": 42,
     "metadata": {},
     "output_type": "execute_result"
    }
   ],
   "source": [
    "df_4_transposed[\"Verkäufe\"]"
   ]
  },
  {
   "cell_type": "code",
   "execution_count": 43,
   "id": "ad2c2f4a",
   "metadata": {},
   "outputs": [
    {
     "data": {
      "text/plain": [
       "pandas.core.series.Series"
      ]
     },
     "execution_count": 43,
     "metadata": {},
     "output_type": "execute_result"
    }
   ],
   "source": [
    "type(df_4_transposed.Verkäufe)"
   ]
  },
  {
   "cell_type": "code",
   "execution_count": 44,
   "id": "4fe3269f",
   "metadata": {},
   "outputs": [
    {
     "data": {
      "text/plain": [
       "pandas.core.series.Series"
      ]
     },
     "execution_count": 44,
     "metadata": {},
     "output_type": "execute_result"
    }
   ],
   "source": [
    "type(df_4_transposed[\"Verkäufe\"])"
   ]
  },
  {
   "cell_type": "code",
   "execution_count": 45,
   "id": "62206c70",
   "metadata": {},
   "outputs": [
    {
     "data": {
      "text/plain": [
       "Index(['Verkäufe', 'Einnahmen'], dtype='object')"
      ]
     },
     "execution_count": 45,
     "metadata": {},
     "output_type": "execute_result"
    }
   ],
   "source": [
    "df_4_transposed.columns"
   ]
  },
  {
   "cell_type": "code",
   "execution_count": 46,
   "id": "7542e38c",
   "metadata": {},
   "outputs": [
    {
     "data": {
      "text/plain": [
       "['Verkäufe', 'Einnahmen']"
      ]
     },
     "execution_count": 46,
     "metadata": {},
     "output_type": "execute_result"
    }
   ],
   "source": [
    "df_4_transposed.columns.to_list()"
   ]
  },
  {
   "cell_type": "code",
   "execution_count": 47,
   "id": "76e9ba1e",
   "metadata": {},
   "outputs": [
    {
     "data": {
      "text/plain": [
       "Index(['Tag 1', 'Tag 2', 'Tag 3', 'Tag 4', 'Tag 5'], dtype='object')"
      ]
     },
     "execution_count": 47,
     "metadata": {},
     "output_type": "execute_result"
    }
   ],
   "source": [
    "df_4_transposed.index"
   ]
  },
  {
   "cell_type": "code",
   "execution_count": 48,
   "id": "455104b6",
   "metadata": {},
   "outputs": [
    {
     "data": {
      "text/plain": [
       "['Tag 1', 'Tag 2', 'Tag 3', 'Tag 4', 'Tag 5']"
      ]
     },
     "execution_count": 48,
     "metadata": {},
     "output_type": "execute_result"
    }
   ],
   "source": [
    "df_4_transposed.index.to_list()"
   ]
  },
  {
   "cell_type": "code",
   "execution_count": 53,
   "id": "ca9f85e1",
   "metadata": {},
   "outputs": [],
   "source": [
    "df = pd.read_csv(\"checkout.csv\")"
   ]
  },
  {
   "cell_type": "code",
   "execution_count": 56,
   "id": "9a6a8c66",
   "metadata": {},
   "outputs": [
    {
     "data": {
      "text/html": [
       "<div>\n",
       "<style scoped>\n",
       "    .dataframe tbody tr th:only-of-type {\n",
       "        vertical-align: middle;\n",
       "    }\n",
       "\n",
       "    .dataframe tbody tr th {\n",
       "        vertical-align: top;\n",
       "    }\n",
       "\n",
       "    .dataframe thead th {\n",
       "        text-align: right;\n",
       "    }\n",
       "</style>\n",
       "<table border=\"1\" class=\"dataframe\">\n",
       "  <thead>\n",
       "    <tr style=\"text-align: right;\">\n",
       "      <th></th>\n",
       "      <th>usageclass</th>\n",
       "      <th>checkouttype</th>\n",
       "      <th>materialtype</th>\n",
       "      <th>checkoutyear</th>\n",
       "      <th>checkoutmonth</th>\n",
       "      <th>checkouts</th>\n",
       "      <th>title</th>\n",
       "      <th>isbn</th>\n",
       "      <th>creator</th>\n",
       "      <th>subjects</th>\n",
       "      <th>publisher</th>\n",
       "      <th>publicationyear</th>\n",
       "    </tr>\n",
       "  </thead>\n",
       "  <tbody>\n",
       "    <tr>\n",
       "      <th>0</th>\n",
       "      <td>Digital</td>\n",
       "      <td>OverDrive</td>\n",
       "      <td>EBOOK</td>\n",
       "      <td>2018</td>\n",
       "      <td>1</td>\n",
       "      <td>22</td>\n",
       "      <td>Enemy of the State</td>\n",
       "      <td>NaN</td>\n",
       "      <td>Vince Flynn</td>\n",
       "      <td>Fiction, Literature, Thriller</td>\n",
       "      <td>Simon &amp; Schuster, Inc.</td>\n",
       "      <td>2017</td>\n",
       "    </tr>\n",
       "    <tr>\n",
       "      <th>1</th>\n",
       "      <td>Digital</td>\n",
       "      <td>Hoopla</td>\n",
       "      <td>TELEVISION</td>\n",
       "      <td>2018</td>\n",
       "      <td>1</td>\n",
       "      <td>1</td>\n",
       "      <td>Newspaper Mom / Cucumber in Rio / Donut Raffle</td>\n",
       "      <td>NaN</td>\n",
       "      <td>NaN</td>\n",
       "      <td>Children's</td>\n",
       "      <td>DHX Media</td>\n",
       "      <td>NaN</td>\n",
       "    </tr>\n",
       "    <tr>\n",
       "      <th>2</th>\n",
       "      <td>Physical</td>\n",
       "      <td>Horizon</td>\n",
       "      <td>SOUNDDISC</td>\n",
       "      <td>2018</td>\n",
       "      <td>1</td>\n",
       "      <td>1</td>\n",
       "      <td>Mono / the Mavericks.</td>\n",
       "      <td>NaN</td>\n",
       "      <td>Mavericks (Musical group)</td>\n",
       "      <td>Country music 2011 2020</td>\n",
       "      <td>Valory,</td>\n",
       "      <td>[2015]</td>\n",
       "    </tr>\n",
       "    <tr>\n",
       "      <th>3</th>\n",
       "      <td>Digital</td>\n",
       "      <td>OverDrive</td>\n",
       "      <td>EBOOK</td>\n",
       "      <td>2018</td>\n",
       "      <td>1</td>\n",
       "      <td>2</td>\n",
       "      <td>Anna Karenina</td>\n",
       "      <td>NaN</td>\n",
       "      <td>Leo Tolstoy</td>\n",
       "      <td>Classic Literature, Fiction, Literature</td>\n",
       "      <td>Penguin Group (USA), Inc.</td>\n",
       "      <td>2009</td>\n",
       "    </tr>\n",
       "    <tr>\n",
       "      <th>4</th>\n",
       "      <td>Digital</td>\n",
       "      <td>OverDrive</td>\n",
       "      <td>EBOOK</td>\n",
       "      <td>2018</td>\n",
       "      <td>1</td>\n",
       "      <td>1</td>\n",
       "      <td>Dragon: Vlad Series, Book 8</td>\n",
       "      <td>NaN</td>\n",
       "      <td>Steven Brust</td>\n",
       "      <td>Fantasy, Fiction</td>\n",
       "      <td>Macmillan Publishers</td>\n",
       "      <td>2015</td>\n",
       "    </tr>\n",
       "    <tr>\n",
       "      <th>5</th>\n",
       "      <td>Digital</td>\n",
       "      <td>OverDrive</td>\n",
       "      <td>EBOOK</td>\n",
       "      <td>2018</td>\n",
       "      <td>1</td>\n",
       "      <td>1</td>\n",
       "      <td>Little Dorrit</td>\n",
       "      <td>NaN</td>\n",
       "      <td>Charles Dickens</td>\n",
       "      <td>Classic Literature, Fiction, Literature</td>\n",
       "      <td>Random House, Inc.</td>\n",
       "      <td>2012</td>\n",
       "    </tr>\n",
       "    <tr>\n",
       "      <th>6</th>\n",
       "      <td>Digital</td>\n",
       "      <td>OverDrive</td>\n",
       "      <td>EBOOK</td>\n",
       "      <td>2018</td>\n",
       "      <td>1</td>\n",
       "      <td>2</td>\n",
       "      <td>The Inside Out Man</td>\n",
       "      <td>NaN</td>\n",
       "      <td>Fred Strydom</td>\n",
       "      <td>Fiction, Horror, Suspense, Thriller</td>\n",
       "      <td>Lightning Source Inc</td>\n",
       "      <td>2017</td>\n",
       "    </tr>\n",
       "    <tr>\n",
       "      <th>7</th>\n",
       "      <td>Physical</td>\n",
       "      <td>Horizon</td>\n",
       "      <td>BOOK</td>\n",
       "      <td>2018</td>\n",
       "      <td>2</td>\n",
       "      <td>1</td>\n",
       "      <td>Spain : a history / edited by Raymond Carr.</td>\n",
       "      <td>NaN</td>\n",
       "      <td>NaN</td>\n",
       "      <td>Spain History</td>\n",
       "      <td>Oxford University Press,</td>\n",
       "      <td>2000.</td>\n",
       "    </tr>\n",
       "    <tr>\n",
       "      <th>8</th>\n",
       "      <td>Digital</td>\n",
       "      <td>OverDrive</td>\n",
       "      <td>EBOOK</td>\n",
       "      <td>2018</td>\n",
       "      <td>2</td>\n",
       "      <td>1</td>\n",
       "      <td>Krik? Krak!</td>\n",
       "      <td>NaN</td>\n",
       "      <td>Edwidge Danticat</td>\n",
       "      <td>Fiction, Literature, Short Stories</td>\n",
       "      <td>Random House, Inc.</td>\n",
       "      <td>2013</td>\n",
       "    </tr>\n",
       "    <tr>\n",
       "      <th>9</th>\n",
       "      <td>Digital</td>\n",
       "      <td>OverDrive</td>\n",
       "      <td>AUDIOBOOK</td>\n",
       "      <td>2018</td>\n",
       "      <td>2</td>\n",
       "      <td>1</td>\n",
       "      <td>Cleopatra (Unabridged)</td>\n",
       "      <td>NaN</td>\n",
       "      <td>H. Rider Haggard</td>\n",
       "      <td>Fiction, Literature</td>\n",
       "      <td>Blackstone Audio, Inc.</td>\n",
       "      <td>2008</td>\n",
       "    </tr>\n",
       "  </tbody>\n",
       "</table>\n",
       "</div>"
      ],
      "text/plain": [
       "  usageclass checkouttype materialtype  checkoutyear  checkoutmonth  \\\n",
       "0    Digital    OverDrive        EBOOK          2018              1   \n",
       "1    Digital       Hoopla   TELEVISION          2018              1   \n",
       "2   Physical      Horizon    SOUNDDISC          2018              1   \n",
       "3    Digital    OverDrive        EBOOK          2018              1   \n",
       "4    Digital    OverDrive        EBOOK          2018              1   \n",
       "5    Digital    OverDrive        EBOOK          2018              1   \n",
       "6    Digital    OverDrive        EBOOK          2018              1   \n",
       "7   Physical      Horizon         BOOK          2018              2   \n",
       "8    Digital    OverDrive        EBOOK          2018              2   \n",
       "9    Digital    OverDrive    AUDIOBOOK          2018              2   \n",
       "\n",
       "   checkouts                                           title  isbn  \\\n",
       "0         22                              Enemy of the State   NaN   \n",
       "1          1  Newspaper Mom / Cucumber in Rio / Donut Raffle   NaN   \n",
       "2          1                           Mono / the Mavericks.   NaN   \n",
       "3          2                                   Anna Karenina   NaN   \n",
       "4          1                     Dragon: Vlad Series, Book 8   NaN   \n",
       "5          1                                   Little Dorrit   NaN   \n",
       "6          2                              The Inside Out Man   NaN   \n",
       "7          1     Spain : a history / edited by Raymond Carr.   NaN   \n",
       "8          1                                     Krik? Krak!   NaN   \n",
       "9          1                          Cleopatra (Unabridged)   NaN   \n",
       "\n",
       "                     creator                                 subjects  \\\n",
       "0                Vince Flynn            Fiction, Literature, Thriller   \n",
       "1                        NaN                               Children's   \n",
       "2  Mavericks (Musical group)                  Country music 2011 2020   \n",
       "3                Leo Tolstoy  Classic Literature, Fiction, Literature   \n",
       "4               Steven Brust                         Fantasy, Fiction   \n",
       "5            Charles Dickens  Classic Literature, Fiction, Literature   \n",
       "6               Fred Strydom      Fiction, Horror, Suspense, Thriller   \n",
       "7                        NaN                            Spain History   \n",
       "8           Edwidge Danticat       Fiction, Literature, Short Stories   \n",
       "9           H. Rider Haggard                      Fiction, Literature   \n",
       "\n",
       "                   publisher publicationyear  \n",
       "0     Simon & Schuster, Inc.            2017  \n",
       "1                  DHX Media             NaN  \n",
       "2                    Valory,          [2015]  \n",
       "3  Penguin Group (USA), Inc.            2009  \n",
       "4       Macmillan Publishers            2015  \n",
       "5         Random House, Inc.            2012  \n",
       "6       Lightning Source Inc            2017  \n",
       "7   Oxford University Press,           2000.  \n",
       "8         Random House, Inc.            2013  \n",
       "9     Blackstone Audio, Inc.            2008  "
      ]
     },
     "execution_count": 56,
     "metadata": {},
     "output_type": "execute_result"
    }
   ],
   "source": [
    "df[:10]"
   ]
  },
  {
   "cell_type": "code",
   "execution_count": 57,
   "id": "558507f3",
   "metadata": {},
   "outputs": [
    {
     "name": "stdout",
     "output_type": "stream",
     "text": [
      "BibliographyType,ISBN,Identifier,Author,Title,Journal,Volume,Number,Month,Pages,Year,Address,Note,URL,Booktitle,Chapter,Edition,Series,Editor,Publisher,ReportType,Howpublished,Institution,Organizations,School,Annote,Custom1,Custom2,Custom3,Custom4,Custom5\r\n"
     ]
    }
   ],
   "source": [
    "!head -1 rohstoffe.csv"
   ]
  },
  {
   "cell_type": "code",
   "execution_count": 58,
   "id": "4b4315ec",
   "metadata": {},
   "outputs": [],
   "source": [
    "df_ff = pd.read_json(\"ff.json\")"
   ]
  },
  {
   "cell_type": "code",
   "execution_count": 59,
   "id": "14bd3b22",
   "metadata": {},
   "outputs": [
    {
     "data": {
      "text/html": [
       "<div>\n",
       "<style scoped>\n",
       "    .dataframe tbody tr th:only-of-type {\n",
       "        vertical-align: middle;\n",
       "    }\n",
       "\n",
       "    .dataframe tbody tr th {\n",
       "        vertical-align: top;\n",
       "    }\n",
       "\n",
       "    .dataframe thead th {\n",
       "        text-align: right;\n",
       "    }\n",
       "</style>\n",
       "<table border=\"1\" class=\"dataframe\">\n",
       "  <thead>\n",
       "    <tr style=\"text-align: right;\">\n",
       "      <th></th>\n",
       "      <th>type</th>\n",
       "      <th>id</th>\n",
       "      <th>tags</th>\n",
       "      <th>intraHash</th>\n",
       "      <th>interHash</th>\n",
       "      <th>label</th>\n",
       "      <th>user</th>\n",
       "      <th>description</th>\n",
       "      <th>date</th>\n",
       "      <th>changeDate</th>\n",
       "      <th>...</th>\n",
       "      <th>adsurl</th>\n",
       "      <th>adsnote</th>\n",
       "      <th>__markedentry</th>\n",
       "      <th>citeulike-article-id</th>\n",
       "      <th>citeulike-linkout-2</th>\n",
       "      <th>citeulike-linkout-1</th>\n",
       "      <th>priority</th>\n",
       "      <th>posted-at</th>\n",
       "      <th>citeulike-linkout-0</th>\n",
       "      <th>archiveprefix</th>\n",
       "    </tr>\n",
       "  </thead>\n",
       "  <tbody>\n",
       "    <tr>\n",
       "      <th>0</th>\n",
       "      <td>Publication</td>\n",
       "      <td>https://www.bibsonomy.org/bibtex/2e4d3d9167bde...</td>\n",
       "      <td>[dnb, Tiere_Zoologie]</td>\n",
       "      <td>e4d3d9167bde886b1da5a534dba75abf</td>\n",
       "      <td>b91b160169a24504a1f84dd16c967418</td>\n",
       "      <td>Making the most of phylogeny: Unique adaptatio...</td>\n",
       "      <td>genealogie</td>\n",
       "      <td></td>\n",
       "      <td>2015-09-08 02:08:21</td>\n",
       "      <td>2015-09-08 02:20:57</td>\n",
       "      <td>...</td>\n",
       "      <td>NaN</td>\n",
       "      <td>NaN</td>\n",
       "      <td>NaN</td>\n",
       "      <td>NaN</td>\n",
       "      <td>NaN</td>\n",
       "      <td>NaN</td>\n",
       "      <td>NaN</td>\n",
       "      <td>NaN</td>\n",
       "      <td>NaN</td>\n",
       "      <td>NaN</td>\n",
       "    </tr>\n",
       "    <tr>\n",
       "      <th>1</th>\n",
       "      <td>Publication</td>\n",
       "      <td>https://www.bibsonomy.org/bibtex/2bc273419c14e...</td>\n",
       "      <td>[dnb, Gesundheit, Medizin]</td>\n",
       "      <td>bc273419c14ea28bed69ce459c3b37f3</td>\n",
       "      <td>291483a218bf98a4253b94302cd5f660</td>\n",
       "      <td>Verhalten des Faktor-VIII-assoziierten Faktor-...</td>\n",
       "      <td>genealogie</td>\n",
       "      <td></td>\n",
       "      <td>2015-09-09 09:01:25</td>\n",
       "      <td>2015-09-09 09:01:25</td>\n",
       "      <td>...</td>\n",
       "      <td>NaN</td>\n",
       "      <td>NaN</td>\n",
       "      <td>NaN</td>\n",
       "      <td>NaN</td>\n",
       "      <td>NaN</td>\n",
       "      <td>NaN</td>\n",
       "      <td>NaN</td>\n",
       "      <td>NaN</td>\n",
       "      <td>NaN</td>\n",
       "      <td>NaN</td>\n",
       "    </tr>\n",
       "    <tr>\n",
       "      <th>2</th>\n",
       "      <td>Publication</td>\n",
       "      <td>https://www.bibsonomy.org/bibtex/29a073e7f1681...</td>\n",
       "      <td>[belletristik, inhaltserschliessung]</td>\n",
       "      <td>9a073e7f1681b748f503a436652d4034</td>\n",
       "      <td>834114430bb8fddd2e92bd2a031261c4</td>\n",
       "      <td>Die Erschließung belletristischer Literatur in...</td>\n",
       "      <td>lepsky</td>\n",
       "      <td></td>\n",
       "      <td>2018-11-04 16:52:12</td>\n",
       "      <td>2018-11-04 16:52:12</td>\n",
       "      <td>...</td>\n",
       "      <td>NaN</td>\n",
       "      <td>NaN</td>\n",
       "      <td>NaN</td>\n",
       "      <td>NaN</td>\n",
       "      <td>NaN</td>\n",
       "      <td>NaN</td>\n",
       "      <td>NaN</td>\n",
       "      <td>NaN</td>\n",
       "      <td>NaN</td>\n",
       "      <td>NaN</td>\n",
       "    </tr>\n",
       "    <tr>\n",
       "      <th>3</th>\n",
       "      <td>Publication</td>\n",
       "      <td>https://www.bibsonomy.org/bibtex/261c570b39f40...</td>\n",
       "      <td>[da2, ea]</td>\n",
       "      <td>61c570b39f4017fd7fa70c7b89041187</td>\n",
       "      <td>10726ccc51c7dff3c46db3d62c108371</td>\n",
       "      <td>Proseminar: Genetische und Evolutionäre Algori...</td>\n",
       "      <td>apo</td>\n",
       "      <td></td>\n",
       "      <td>2008-10-17 13:23:57</td>\n",
       "      <td>2008-10-17 13:23:57</td>\n",
       "      <td>...</td>\n",
       "      <td>NaN</td>\n",
       "      <td>NaN</td>\n",
       "      <td>NaN</td>\n",
       "      <td>NaN</td>\n",
       "      <td>NaN</td>\n",
       "      <td>NaN</td>\n",
       "      <td>NaN</td>\n",
       "      <td>NaN</td>\n",
       "      <td>NaN</td>\n",
       "      <td>NaN</td>\n",
       "    </tr>\n",
       "    <tr>\n",
       "      <th>4</th>\n",
       "      <td>Publication</td>\n",
       "      <td>https://www.bibsonomy.org/bibtex/221a4ddd18f65...</td>\n",
       "      <td>[fachreferat.germanistik]</td>\n",
       "      <td>21a4ddd18f65a463794791a88f14c290</td>\n",
       "      <td>92f2ad8b16d51624b2ecb0d0053b6a93</td>\n",
       "      <td>Das Institut für Deutsche Sprache in Mannheim ...</td>\n",
       "      <td>voss</td>\n",
       "      <td>Seminararbeit_Foerster_Frank_Malis07.pdf (appl...</td>\n",
       "      <td>2012-09-11 12:33:15</td>\n",
       "      <td>2012-09-11 12:35:32</td>\n",
       "      <td>...</td>\n",
       "      <td>NaN</td>\n",
       "      <td>NaN</td>\n",
       "      <td>NaN</td>\n",
       "      <td>NaN</td>\n",
       "      <td>NaN</td>\n",
       "      <td>NaN</td>\n",
       "      <td>NaN</td>\n",
       "      <td>NaN</td>\n",
       "      <td>NaN</td>\n",
       "      <td>NaN</td>\n",
       "    </tr>\n",
       "    <tr>\n",
       "      <th>...</th>\n",
       "      <td>...</td>\n",
       "      <td>...</td>\n",
       "      <td>...</td>\n",
       "      <td>...</td>\n",
       "      <td>...</td>\n",
       "      <td>...</td>\n",
       "      <td>...</td>\n",
       "      <td>...</td>\n",
       "      <td>...</td>\n",
       "      <td>...</td>\n",
       "      <td>...</td>\n",
       "      <td>...</td>\n",
       "      <td>...</td>\n",
       "      <td>...</td>\n",
       "      <td>...</td>\n",
       "      <td>...</td>\n",
       "      <td>...</td>\n",
       "      <td>...</td>\n",
       "      <td>...</td>\n",
       "      <td>...</td>\n",
       "      <td>...</td>\n",
       "    </tr>\n",
       "    <tr>\n",
       "      <th>109</th>\n",
       "      <td>Publication</td>\n",
       "      <td>https://www.bibsonomy.org/bibtex/2d3eb21edf853...</td>\n",
       "      <td>[emission, star, formation, outflows]</td>\n",
       "      <td>d3eb21edf853b1e3689fed7dfc001314</td>\n",
       "      <td>7cc2153506a75c75d1fc9445d9f47122</td>\n",
       "      <td>The SINS/zC-SINF survey of z~2 galaxy kinemati...</td>\n",
       "      <td>miki</td>\n",
       "      <td>[1207.5897] The SINS/zC-SINF survey of z~2 gal...</td>\n",
       "      <td>2012-07-26 14:55:06</td>\n",
       "      <td>2012-07-26 14:55:06</td>\n",
       "      <td>...</td>\n",
       "      <td>NaN</td>\n",
       "      <td>NaN</td>\n",
       "      <td>NaN</td>\n",
       "      <td>NaN</td>\n",
       "      <td>NaN</td>\n",
       "      <td>NaN</td>\n",
       "      <td>NaN</td>\n",
       "      <td>NaN</td>\n",
       "      <td>NaN</td>\n",
       "      <td>NaN</td>\n",
       "    </tr>\n",
       "    <tr>\n",
       "      <th>110</th>\n",
       "      <td>Publication</td>\n",
       "      <td>https://www.bibsonomy.org/bibtex/2c7a9053e5b4b...</td>\n",
       "      <td>[imported, myown, cctb, alexanderkeller, mbd]</td>\n",
       "      <td>c7a9053e5b4b64e4bf4a9a1de4358388</td>\n",
       "      <td>a6805416451a2a2b586f0d88e757eeca</td>\n",
       "      <td>Standard methods for pollen research</td>\n",
       "      <td>a.keller81</td>\n",
       "      <td></td>\n",
       "      <td>2021-12-09 11:08:49</td>\n",
       "      <td>2021-12-09 11:21:21</td>\n",
       "      <td>...</td>\n",
       "      <td>NaN</td>\n",
       "      <td>NaN</td>\n",
       "      <td>NaN</td>\n",
       "      <td>NaN</td>\n",
       "      <td>NaN</td>\n",
       "      <td>NaN</td>\n",
       "      <td>NaN</td>\n",
       "      <td>NaN</td>\n",
       "      <td>NaN</td>\n",
       "      <td>NaN</td>\n",
       "    </tr>\n",
       "    <tr>\n",
       "      <th>111</th>\n",
       "      <td>Publication</td>\n",
       "      <td>https://www.bibsonomy.org/bibtex/2c7a9053e5b4b...</td>\n",
       "      <td>[cctb, markusankenbrand, alexanderkeller, mbd]</td>\n",
       "      <td>c7a9053e5b4b64e4bf4a9a1de4358388</td>\n",
       "      <td>a6805416451a2a2b586f0d88e757eeca</td>\n",
       "      <td>Standard methods for pollen research</td>\n",
       "      <td>iimog</td>\n",
       "      <td></td>\n",
       "      <td>2022-01-03 10:18:09</td>\n",
       "      <td>2022-01-03 10:18:09</td>\n",
       "      <td>...</td>\n",
       "      <td>NaN</td>\n",
       "      <td>NaN</td>\n",
       "      <td>NaN</td>\n",
       "      <td>NaN</td>\n",
       "      <td>NaN</td>\n",
       "      <td>NaN</td>\n",
       "      <td>NaN</td>\n",
       "      <td>NaN</td>\n",
       "      <td>NaN</td>\n",
       "      <td>NaN</td>\n",
       "    </tr>\n",
       "    <tr>\n",
       "      <th>112</th>\n",
       "      <td>Publication</td>\n",
       "      <td>https://www.bibsonomy.org/bibtex/297114b2f3694...</td>\n",
       "      <td>[imported, 14MAST, astronomía]</td>\n",
       "      <td>97114b2f3694bbdc635bf429ae395814</td>\n",
       "      <td>811a065a935139d96ec2f1ddf10f8bb2</td>\n",
       "      <td>The Galaxy Evolution Explorer</td>\n",
       "      <td>osso73</td>\n",
       "      <td></td>\n",
       "      <td>2019-11-04 18:50:55</td>\n",
       "      <td>2019-11-08 09:39:11</td>\n",
       "      <td>...</td>\n",
       "      <td>https://ui.adsabs.harvard.edu/\\#abs/2003SPIE.4...</td>\n",
       "      <td>Provided by the SAO/NASA Astrophysics Data System</td>\n",
       "      <td>oriol:6</td>\n",
       "      <td>NaN</td>\n",
       "      <td>NaN</td>\n",
       "      <td>NaN</td>\n",
       "      <td>NaN</td>\n",
       "      <td>NaN</td>\n",
       "      <td>NaN</td>\n",
       "      <td>NaN</td>\n",
       "    </tr>\n",
       "    <tr>\n",
       "      <th>113</th>\n",
       "      <td>Publication</td>\n",
       "      <td>https://www.bibsonomy.org/bibtex/216a04c8f02f1...</td>\n",
       "      <td>[bdecay,, review]</td>\n",
       "      <td>16a04c8f02f1c6b6361f3078e4de778f</td>\n",
       "      <td>02a95a2579d780d98dda252e31c7f5da</td>\n",
       "      <td>The Physics of the B Factories</td>\n",
       "      <td>cmcneile</td>\n",
       "      <td></td>\n",
       "      <td>2019-02-23 22:09:48</td>\n",
       "      <td>2019-02-23 22:15:27</td>\n",
       "      <td>...</td>\n",
       "      <td>NaN</td>\n",
       "      <td>NaN</td>\n",
       "      <td>NaN</td>\n",
       "      <td>13242048.0</td>\n",
       "      <td>http://dx.doi.org/10.1140/epjc/s10052-014-3026-9</td>\n",
       "      <td>http://arxiv.org/pdf/1406.6311</td>\n",
       "      <td>2.0</td>\n",
       "      <td>2014-06-25 10:47:31</td>\n",
       "      <td>http://arxiv.org/abs/1406.6311</td>\n",
       "      <td>arXiv</td>\n",
       "    </tr>\n",
       "  </tbody>\n",
       "</table>\n",
       "<p>114 rows × 46 columns</p>\n",
       "</div>"
      ],
      "text/plain": [
       "            type                                                 id  \\\n",
       "0    Publication  https://www.bibsonomy.org/bibtex/2e4d3d9167bde...   \n",
       "1    Publication  https://www.bibsonomy.org/bibtex/2bc273419c14e...   \n",
       "2    Publication  https://www.bibsonomy.org/bibtex/29a073e7f1681...   \n",
       "3    Publication  https://www.bibsonomy.org/bibtex/261c570b39f40...   \n",
       "4    Publication  https://www.bibsonomy.org/bibtex/221a4ddd18f65...   \n",
       "..           ...                                                ...   \n",
       "109  Publication  https://www.bibsonomy.org/bibtex/2d3eb21edf853...   \n",
       "110  Publication  https://www.bibsonomy.org/bibtex/2c7a9053e5b4b...   \n",
       "111  Publication  https://www.bibsonomy.org/bibtex/2c7a9053e5b4b...   \n",
       "112  Publication  https://www.bibsonomy.org/bibtex/297114b2f3694...   \n",
       "113  Publication  https://www.bibsonomy.org/bibtex/216a04c8f02f1...   \n",
       "\n",
       "                                               tags  \\\n",
       "0                             [dnb, Tiere_Zoologie]   \n",
       "1                        [dnb, Gesundheit, Medizin]   \n",
       "2              [belletristik, inhaltserschliessung]   \n",
       "3                                         [da2, ea]   \n",
       "4                         [fachreferat.germanistik]   \n",
       "..                                              ...   \n",
       "109           [emission, star, formation, outflows]   \n",
       "110   [imported, myown, cctb, alexanderkeller, mbd]   \n",
       "111  [cctb, markusankenbrand, alexanderkeller, mbd]   \n",
       "112                  [imported, 14MAST, astronomía]   \n",
       "113                               [bdecay,, review]   \n",
       "\n",
       "                            intraHash                         interHash  \\\n",
       "0    e4d3d9167bde886b1da5a534dba75abf  b91b160169a24504a1f84dd16c967418   \n",
       "1    bc273419c14ea28bed69ce459c3b37f3  291483a218bf98a4253b94302cd5f660   \n",
       "2    9a073e7f1681b748f503a436652d4034  834114430bb8fddd2e92bd2a031261c4   \n",
       "3    61c570b39f4017fd7fa70c7b89041187  10726ccc51c7dff3c46db3d62c108371   \n",
       "4    21a4ddd18f65a463794791a88f14c290  92f2ad8b16d51624b2ecb0d0053b6a93   \n",
       "..                                ...                               ...   \n",
       "109  d3eb21edf853b1e3689fed7dfc001314  7cc2153506a75c75d1fc9445d9f47122   \n",
       "110  c7a9053e5b4b64e4bf4a9a1de4358388  a6805416451a2a2b586f0d88e757eeca   \n",
       "111  c7a9053e5b4b64e4bf4a9a1de4358388  a6805416451a2a2b586f0d88e757eeca   \n",
       "112  97114b2f3694bbdc635bf429ae395814  811a065a935139d96ec2f1ddf10f8bb2   \n",
       "113  16a04c8f02f1c6b6361f3078e4de778f  02a95a2579d780d98dda252e31c7f5da   \n",
       "\n",
       "                                                 label        user  \\\n",
       "0    Making the most of phylogeny: Unique adaptatio...  genealogie   \n",
       "1    Verhalten des Faktor-VIII-assoziierten Faktor-...  genealogie   \n",
       "2    Die Erschließung belletristischer Literatur in...      lepsky   \n",
       "3    Proseminar: Genetische und Evolutionäre Algori...         apo   \n",
       "4    Das Institut für Deutsche Sprache in Mannheim ...        voss   \n",
       "..                                                 ...         ...   \n",
       "109  The SINS/zC-SINF survey of z~2 galaxy kinemati...        miki   \n",
       "110               Standard methods for pollen research  a.keller81   \n",
       "111               Standard methods for pollen research       iimog   \n",
       "112                      The Galaxy Evolution Explorer      osso73   \n",
       "113                     The Physics of the B Factories    cmcneile   \n",
       "\n",
       "                                           description                date  \\\n",
       "0                                                      2015-09-08 02:08:21   \n",
       "1                                                      2015-09-09 09:01:25   \n",
       "2                                                      2018-11-04 16:52:12   \n",
       "3                                                      2008-10-17 13:23:57   \n",
       "4    Seminararbeit_Foerster_Frank_Malis07.pdf (appl... 2012-09-11 12:33:15   \n",
       "..                                                 ...                 ...   \n",
       "109  [1207.5897] The SINS/zC-SINF survey of z~2 gal... 2012-07-26 14:55:06   \n",
       "110                                                    2021-12-09 11:08:49   \n",
       "111                                                    2022-01-03 10:18:09   \n",
       "112                                                    2019-11-04 18:50:55   \n",
       "113                                                    2019-02-23 22:09:48   \n",
       "\n",
       "              changeDate  ...  \\\n",
       "0    2015-09-08 02:20:57  ...   \n",
       "1    2015-09-09 09:01:25  ...   \n",
       "2    2018-11-04 16:52:12  ...   \n",
       "3    2008-10-17 13:23:57  ...   \n",
       "4    2012-09-11 12:35:32  ...   \n",
       "..                   ...  ...   \n",
       "109  2012-07-26 14:55:06  ...   \n",
       "110  2021-12-09 11:21:21  ...   \n",
       "111  2022-01-03 10:18:09  ...   \n",
       "112  2019-11-08 09:39:11  ...   \n",
       "113  2019-02-23 22:15:27  ...   \n",
       "\n",
       "                                                adsurl  \\\n",
       "0                                                  NaN   \n",
       "1                                                  NaN   \n",
       "2                                                  NaN   \n",
       "3                                                  NaN   \n",
       "4                                                  NaN   \n",
       "..                                                 ...   \n",
       "109                                                NaN   \n",
       "110                                                NaN   \n",
       "111                                                NaN   \n",
       "112  https://ui.adsabs.harvard.edu/\\#abs/2003SPIE.4...   \n",
       "113                                                NaN   \n",
       "\n",
       "                                               adsnote  __markedentry  \\\n",
       "0                                                  NaN            NaN   \n",
       "1                                                  NaN            NaN   \n",
       "2                                                  NaN            NaN   \n",
       "3                                                  NaN            NaN   \n",
       "4                                                  NaN            NaN   \n",
       "..                                                 ...            ...   \n",
       "109                                                NaN            NaN   \n",
       "110                                                NaN            NaN   \n",
       "111                                                NaN            NaN   \n",
       "112  Provided by the SAO/NASA Astrophysics Data System        oriol:6   \n",
       "113                                                NaN            NaN   \n",
       "\n",
       "    citeulike-article-id                               citeulike-linkout-2  \\\n",
       "0                    NaN                                               NaN   \n",
       "1                    NaN                                               NaN   \n",
       "2                    NaN                                               NaN   \n",
       "3                    NaN                                               NaN   \n",
       "4                    NaN                                               NaN   \n",
       "..                   ...                                               ...   \n",
       "109                  NaN                                               NaN   \n",
       "110                  NaN                                               NaN   \n",
       "111                  NaN                                               NaN   \n",
       "112                  NaN                                               NaN   \n",
       "113           13242048.0  http://dx.doi.org/10.1140/epjc/s10052-014-3026-9   \n",
       "\n",
       "                citeulike-linkout-1 priority            posted-at  \\\n",
       "0                               NaN      NaN                  NaN   \n",
       "1                               NaN      NaN                  NaN   \n",
       "2                               NaN      NaN                  NaN   \n",
       "3                               NaN      NaN                  NaN   \n",
       "4                               NaN      NaN                  NaN   \n",
       "..                              ...      ...                  ...   \n",
       "109                             NaN      NaN                  NaN   \n",
       "110                             NaN      NaN                  NaN   \n",
       "111                             NaN      NaN                  NaN   \n",
       "112                             NaN      NaN                  NaN   \n",
       "113  http://arxiv.org/pdf/1406.6311      2.0  2014-06-25 10:47:31   \n",
       "\n",
       "                citeulike-linkout-0 archiveprefix  \n",
       "0                               NaN           NaN  \n",
       "1                               NaN           NaN  \n",
       "2                               NaN           NaN  \n",
       "3                               NaN           NaN  \n",
       "4                               NaN           NaN  \n",
       "..                              ...           ...  \n",
       "109                             NaN           NaN  \n",
       "110                             NaN           NaN  \n",
       "111                             NaN           NaN  \n",
       "112                             NaN           NaN  \n",
       "113  http://arxiv.org/abs/1406.6311         arXiv  \n",
       "\n",
       "[114 rows x 46 columns]"
      ]
     },
     "execution_count": 59,
     "metadata": {},
     "output_type": "execute_result"
    }
   ],
   "source": [
    "df_ff"
   ]
  },
  {
   "cell_type": "code",
   "execution_count": 60,
   "id": "0212f7e5",
   "metadata": {},
   "outputs": [
    {
     "name": "stdout",
     "output_type": "stream",
     "text": [
      "<class 'pandas.core.frame.DataFrame'>\n",
      "RangeIndex: 114 entries, 0 to 113\n",
      "Data columns (total 46 columns):\n",
      " #   Column                Non-Null Count  Dtype         \n",
      "---  ------                --------------  -----         \n",
      " 0   type                  114 non-null    object        \n",
      " 1   id                    114 non-null    object        \n",
      " 2   tags                  114 non-null    object        \n",
      " 3   intraHash             114 non-null    object        \n",
      " 4   interHash             114 non-null    object        \n",
      " 5   label                 114 non-null    object        \n",
      " 6   user                  114 non-null    object        \n",
      " 7   description           114 non-null    object        \n",
      " 8   date                  114 non-null    datetime64[ns]\n",
      " 9   changeDate            114 non-null    object        \n",
      " 10  count                 114 non-null    int64         \n",
      " 11  pub-type              114 non-null    object        \n",
      " 12  year                  114 non-null    int64         \n",
      " 13  url                   114 non-null    object        \n",
      " 14  author                114 non-null    object        \n",
      " 15  authors               114 non-null    object        \n",
      " 16  dnbtitleid            18 non-null     object        \n",
      " 17  bibtexKey             114 non-null    object        \n",
      " 18  abstract              17 non-null     object        \n",
      " 19  pages                 74 non-null     object        \n",
      " 20  ee                    52 non-null     object        \n",
      " 21  booktitle             33 non-null     object        \n",
      " 22  publisher             43 non-null     object        \n",
      " 23  isbn                  27 non-null     object        \n",
      " 24  editor                14 non-null     object        \n",
      " 25  editors               14 non-null     object        \n",
      " 26  journal               51 non-null     object        \n",
      " 27  number                34 non-null     object        \n",
      " 28  _originaltype         1 non-null      object        \n",
      " 29  _originalcomment      1 non-null      object        \n",
      " 30  volume                55 non-null     object        \n",
      " 31  series                6 non-null      object        \n",
      " 32  issn                  7 non-null      object        \n",
      " 33  doi                   25 non-null     object        \n",
      " 34  eprint                4 non-null      object        \n",
      " 35  note                  5 non-null      object        \n",
      " 36  adsurl                1 non-null      object        \n",
      " 37  adsnote               1 non-null      object        \n",
      " 38  __markedentry         1 non-null      object        \n",
      " 39  citeulike-article-id  1 non-null      float64       \n",
      " 40  citeulike-linkout-2   1 non-null      object        \n",
      " 41  citeulike-linkout-1   1 non-null      object        \n",
      " 42  priority              1 non-null      float64       \n",
      " 43  posted-at             1 non-null      object        \n",
      " 44  citeulike-linkout-0   1 non-null      object        \n",
      " 45  archiveprefix         1 non-null      object        \n",
      "dtypes: datetime64[ns](1), float64(2), int64(2), object(41)\n",
      "memory usage: 41.1+ KB\n"
     ]
    }
   ],
   "source": [
    "df_ff.info()"
   ]
  },
  {
   "cell_type": "code",
   "execution_count": 61,
   "id": "8b602db2",
   "metadata": {},
   "outputs": [
    {
     "data": {
      "text/plain": [
       "Index(['type', 'id', 'tags', 'intraHash', 'interHash', 'label', 'user',\n",
       "       'description', 'date', 'changeDate', 'count', 'pub-type', 'year', 'url',\n",
       "       'author', 'authors', 'dnbtitleid', 'bibtexKey', 'abstract', 'pages',\n",
       "       'ee', 'booktitle', 'publisher', 'isbn', 'editor', 'editors', 'journal',\n",
       "       'number', '_originaltype', '_originalcomment', 'volume', 'series',\n",
       "       'issn', 'doi', 'eprint', 'note', 'adsurl', 'adsnote', '__markedentry',\n",
       "       'citeulike-article-id', 'citeulike-linkout-2', 'citeulike-linkout-1',\n",
       "       'priority', 'posted-at', 'citeulike-linkout-0', 'archiveprefix'],\n",
       "      dtype='object')"
      ]
     },
     "execution_count": 61,
     "metadata": {},
     "output_type": "execute_result"
    }
   ],
   "source": [
    "df_ff.keys()"
   ]
  },
  {
   "cell_type": "code",
   "execution_count": null,
   "id": "8bc05fea",
   "metadata": {},
   "outputs": [],
   "source": []
  }
 ],
 "metadata": {
  "kernelspec": {
   "display_name": "Python 3 (ipykernel)",
   "language": "python",
   "name": "python3"
  },
  "language_info": {
   "codemirror_mode": {
    "name": "ipython",
    "version": 3
   },
   "file_extension": ".py",
   "mimetype": "text/x-python",
   "name": "python",
   "nbconvert_exporter": "python",
   "pygments_lexer": "ipython3",
   "version": "3.9.13"
  }
 },
 "nbformat": 4,
 "nbformat_minor": 5
}
