{
 "cells": [
  {
   "cell_type": "code",
   "execution_count": 36,
   "id": "b9b202a2",
   "metadata": {},
   "outputs": [],
   "source": [
    "file_for_reading = open ('abstract.txt', 'r')"
   ]
  },
  {
   "cell_type": "code",
   "execution_count": 37,
   "id": "6a6eb516",
   "metadata": {},
   "outputs": [
    {
     "data": {
      "text/plain": [
       "_io.TextIOWrapper"
      ]
     },
     "execution_count": 37,
     "metadata": {},
     "output_type": "execute_result"
    }
   ],
   "source": [
    "type(file_for_reading)"
   ]
  },
  {
   "cell_type": "code",
   "execution_count": 38,
   "id": "c0fa74a5",
   "metadata": {},
   "outputs": [
    {
     "data": {
      "text/plain": [
       "<_io.TextIOWrapper name='abstract.txt' mode='r' encoding='UTF-8'>"
      ]
     },
     "execution_count": 38,
     "metadata": {},
     "output_type": "execute_result"
    }
   ],
   "source": [
    "file_for_reading"
   ]
  },
  {
   "cell_type": "code",
   "execution_count": 39,
   "id": "87a67ebe",
   "metadata": {},
   "outputs": [
    {
     "data": {
      "text/plain": [
       "'In dieser '"
      ]
     },
     "execution_count": 39,
     "metadata": {},
     "output_type": "execute_result"
    }
   ],
   "source": [
    "first_10_chars = file_for_reading.read(10)\n",
    "first_10_chars"
   ]
  },
  {
   "cell_type": "code",
   "execution_count": 40,
   "id": "0a4fda72",
   "metadata": {},
   "outputs": [
    {
     "data": {
      "text/plain": [
       "'Arbeit wird die Simulation der Mantelkonvektion mit dem Programm Terra aus numerisch mathematischer Perspektive betrachtet. \\n'"
      ]
     },
     "execution_count": 40,
     "metadata": {},
     "output_type": "execute_result"
    }
   ],
   "source": [
    "next_line = file_for_reading.readline()\n",
    "next_line"
   ]
  },
  {
   "cell_type": "code",
   "execution_count": 41,
   "id": "698aa388",
   "metadata": {},
   "outputs": [
    {
     "data": {
      "text/plain": [
       "[]"
      ]
     },
     "execution_count": 41,
     "metadata": {},
     "output_type": "execute_result"
    }
   ],
   "source": [
    "whole_text = file_for_reading.readlines()\n",
    "whole_text"
   ]
  },
  {
   "cell_type": "code",
   "execution_count": 42,
   "id": "6b2d815c",
   "metadata": {},
   "outputs": [],
   "source": [
    "file_for_reading.close()"
   ]
  },
  {
   "cell_type": "code",
   "execution_count": 43,
   "id": "8f634a12",
   "metadata": {},
   "outputs": [],
   "source": [
    "with open('abstract.txt', 'r') as infile:\n",
    "    data = infile.readlines()"
   ]
  },
  {
   "cell_type": "code",
   "execution_count": 44,
   "id": "42d4ed17",
   "metadata": {},
   "outputs": [
    {
     "data": {
      "text/plain": [
       "list"
      ]
     },
     "execution_count": 44,
     "metadata": {},
     "output_type": "execute_result"
    }
   ],
   "source": [
    "type(data)"
   ]
  },
  {
   "cell_type": "code",
   "execution_count": 45,
   "id": "dd3887e5",
   "metadata": {
    "scrolled": true
   },
   "outputs": [
    {
     "data": {
      "text/plain": [
       "['In dieser Arbeit wird die Simulation der Mantelkonvektion mit dem Programm Terra aus numerisch mathematischer Perspektive betrachtet. \\n']"
      ]
     },
     "execution_count": 45,
     "metadata": {},
     "output_type": "execute_result"
    }
   ],
   "source": [
    "data"
   ]
  },
  {
   "cell_type": "code",
   "execution_count": 46,
   "id": "9ded394c",
   "metadata": {},
   "outputs": [
    {
     "name": "stdout",
     "output_type": "stream",
     "text": [
      "In dieser Arbeit wird die Simulation der Mantelkonvektion mit dem Programm Terra aus numerisch mathematischer Perspektive betrachtet.\n"
     ]
    }
   ],
   "source": [
    "with open('abstract.txt', 'r') as infile:\n",
    "    for line in infile:\n",
    "        print(line.strip())"
   ]
  },
  {
   "cell_type": "code",
   "execution_count": 47,
   "id": "37be7cd2",
   "metadata": {},
   "outputs": [
    {
     "name": "stdout",
     "output_type": "stream",
     "text": [
      "In dieser Arbeit wird die Simulation der Mantelkonvektion mit dem Programm Terra aus numerisch mathematischer Perspektive betrachtet.\n"
     ]
    }
   ],
   "source": [
    "for line in open('abstract.txt', 'r'):\n",
    "    print(line.strip())\n"
   ]
  },
  {
   "cell_type": "code",
   "execution_count": 48,
   "id": "fac9bd30",
   "metadata": {},
   "outputs": [],
   "source": [
    "with open('abstract.txt', 'w') as outfile:\n",
    "    outfile.writelines(data[0])"
   ]
  },
  {
   "cell_type": "code",
   "execution_count": null,
   "id": "e450f809",
   "metadata": {},
   "outputs": [],
   "source": []
  }
 ],
 "metadata": {
  "kernelspec": {
   "display_name": "Python 3 (ipykernel)",
   "language": "python",
   "name": "python3"
  },
  "language_info": {
   "codemirror_mode": {
    "name": "ipython",
    "version": 3
   },
   "file_extension": ".py",
   "mimetype": "text/x-python",
   "name": "python",
   "nbconvert_exporter": "python",
   "pygments_lexer": "ipython3",
   "version": "3.9.13"
  }
 },
 "nbformat": 4,
 "nbformat_minor": 5
}
