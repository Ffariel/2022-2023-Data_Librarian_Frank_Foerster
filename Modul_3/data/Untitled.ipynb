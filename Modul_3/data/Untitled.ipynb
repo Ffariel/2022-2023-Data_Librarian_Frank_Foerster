{
 "cells": [
  {
   "cell_type": "code",
   "execution_count": 2,
   "id": "4e515519",
   "metadata": {},
   "outputs": [],
   "source": [
    "import pandas as pd"
   ]
  },
  {
   "cell_type": "code",
   "execution_count": 3,
   "id": "95e096bc",
   "metadata": {},
   "outputs": [],
   "source": [
    "file = 'Library_Usage.csv'"
   ]
  },
  {
   "cell_type": "code",
   "execution_count": 4,
   "id": "ad1857b5",
   "metadata": {},
   "outputs": [],
   "source": [
    "data = pd.read_csv(file)"
   ]
  },
  {
   "cell_type": "code",
   "execution_count": 5,
   "id": "bc84ede4",
   "metadata": {},
   "outputs": [
    {
     "data": {
      "text/html": [
       "<div>\n",
       "<style scoped>\n",
       "    .dataframe tbody tr th:only-of-type {\n",
       "        vertical-align: middle;\n",
       "    }\n",
       "\n",
       "    .dataframe tbody tr th {\n",
       "        vertical-align: top;\n",
       "    }\n",
       "\n",
       "    .dataframe thead th {\n",
       "        text-align: right;\n",
       "    }\n",
       "</style>\n",
       "<table border=\"1\" class=\"dataframe\">\n",
       "  <thead>\n",
       "    <tr style=\"text-align: right;\">\n",
       "      <th></th>\n",
       "      <th>Patron Type Code</th>\n",
       "      <th>Patron Type Definition</th>\n",
       "      <th>Total Checkouts</th>\n",
       "      <th>Total Renewals</th>\n",
       "      <th>Age Range</th>\n",
       "      <th>Home Library Code</th>\n",
       "      <th>Home Library Definition</th>\n",
       "      <th>Circulation Active Month</th>\n",
       "      <th>Circulation Active Year</th>\n",
       "      <th>Notice Preference Code</th>\n",
       "      <th>Notice Preference Definition</th>\n",
       "      <th>Provided Email Address</th>\n",
       "      <th>Year Patron Registered</th>\n",
       "      <th>Within San Francisco County</th>\n",
       "    </tr>\n",
       "  </thead>\n",
       "  <tbody>\n",
       "    <tr>\n",
       "      <th>0</th>\n",
       "      <td>1</td>\n",
       "      <td>Juvenile</td>\n",
       "      <td>0</td>\n",
       "      <td>0</td>\n",
       "      <td>0 to 9 years</td>\n",
       "      <td>r3</td>\n",
       "      <td>Richmond</td>\n",
       "      <td>NaN</td>\n",
       "      <td>NaN</td>\n",
       "      <td>z</td>\n",
       "      <td>Email</td>\n",
       "      <td>True</td>\n",
       "      <td>2022</td>\n",
       "      <td>True</td>\n",
       "    </tr>\n",
       "    <tr>\n",
       "      <th>1</th>\n",
       "      <td>2</td>\n",
       "      <td>Teen</td>\n",
       "      <td>0</td>\n",
       "      <td>0</td>\n",
       "      <td>10 to 19 years</td>\n",
       "      <td>x</td>\n",
       "      <td>Main</td>\n",
       "      <td>NaN</td>\n",
       "      <td>NaN</td>\n",
       "      <td>z</td>\n",
       "      <td>Email</td>\n",
       "      <td>True</td>\n",
       "      <td>2022</td>\n",
       "      <td>True</td>\n",
       "    </tr>\n",
       "    <tr>\n",
       "      <th>2</th>\n",
       "      <td>0</td>\n",
       "      <td>Adult</td>\n",
       "      <td>0</td>\n",
       "      <td>0</td>\n",
       "      <td>35 to 44 years</td>\n",
       "      <td>m4</td>\n",
       "      <td>Merced</td>\n",
       "      <td>NaN</td>\n",
       "      <td>NaN</td>\n",
       "      <td>z</td>\n",
       "      <td>Email</td>\n",
       "      <td>True</td>\n",
       "      <td>2019</td>\n",
       "      <td>True</td>\n",
       "    </tr>\n",
       "    <tr>\n",
       "      <th>3</th>\n",
       "      <td>2</td>\n",
       "      <td>Teen</td>\n",
       "      <td>0</td>\n",
       "      <td>0</td>\n",
       "      <td>10 to 19 years</td>\n",
       "      <td>x</td>\n",
       "      <td>Main</td>\n",
       "      <td>NaN</td>\n",
       "      <td>NaN</td>\n",
       "      <td>z</td>\n",
       "      <td>Email</td>\n",
       "      <td>True</td>\n",
       "      <td>2021</td>\n",
       "      <td>True</td>\n",
       "    </tr>\n",
       "    <tr>\n",
       "      <th>4</th>\n",
       "      <td>2</td>\n",
       "      <td>Teen</td>\n",
       "      <td>0</td>\n",
       "      <td>0</td>\n",
       "      <td>10 to 19 years</td>\n",
       "      <td>b2</td>\n",
       "      <td>Bayview</td>\n",
       "      <td>NaN</td>\n",
       "      <td>NaN</td>\n",
       "      <td>z</td>\n",
       "      <td>Email</td>\n",
       "      <td>True</td>\n",
       "      <td>2013</td>\n",
       "      <td>True</td>\n",
       "    </tr>\n",
       "    <tr>\n",
       "      <th>...</th>\n",
       "      <td>...</td>\n",
       "      <td>...</td>\n",
       "      <td>...</td>\n",
       "      <td>...</td>\n",
       "      <td>...</td>\n",
       "      <td>...</td>\n",
       "      <td>...</td>\n",
       "      <td>...</td>\n",
       "      <td>...</td>\n",
       "      <td>...</td>\n",
       "      <td>...</td>\n",
       "      <td>...</td>\n",
       "      <td>...</td>\n",
       "      <td>...</td>\n",
       "    </tr>\n",
       "    <tr>\n",
       "      <th>437110</th>\n",
       "      <td>0</td>\n",
       "      <td>Adult</td>\n",
       "      <td>14</td>\n",
       "      <td>11</td>\n",
       "      <td>45 to 54 years</td>\n",
       "      <td>x</td>\n",
       "      <td>Main</td>\n",
       "      <td>August</td>\n",
       "      <td>2004.0</td>\n",
       "      <td>z</td>\n",
       "      <td>Email</td>\n",
       "      <td>True</td>\n",
       "      <td>2003</td>\n",
       "      <td>False</td>\n",
       "    </tr>\n",
       "    <tr>\n",
       "      <th>437111</th>\n",
       "      <td>0</td>\n",
       "      <td>Adult</td>\n",
       "      <td>2</td>\n",
       "      <td>0</td>\n",
       "      <td>45 to 54 years</td>\n",
       "      <td>x</td>\n",
       "      <td>Main</td>\n",
       "      <td>August</td>\n",
       "      <td>2004.0</td>\n",
       "      <td>z</td>\n",
       "      <td>Email</td>\n",
       "      <td>True</td>\n",
       "      <td>2003</td>\n",
       "      <td>True</td>\n",
       "    </tr>\n",
       "    <tr>\n",
       "      <th>437112</th>\n",
       "      <td>3</td>\n",
       "      <td>Senior</td>\n",
       "      <td>5</td>\n",
       "      <td>0</td>\n",
       "      <td>75 years and over</td>\n",
       "      <td>e7</td>\n",
       "      <td>Eureka Valley</td>\n",
       "      <td>August</td>\n",
       "      <td>2004.0</td>\n",
       "      <td>p</td>\n",
       "      <td>Phone</td>\n",
       "      <td>False</td>\n",
       "      <td>2003</td>\n",
       "      <td>True</td>\n",
       "    </tr>\n",
       "    <tr>\n",
       "      <th>437113</th>\n",
       "      <td>3</td>\n",
       "      <td>Senior</td>\n",
       "      <td>4</td>\n",
       "      <td>0</td>\n",
       "      <td>65 to 74 years</td>\n",
       "      <td>m6</td>\n",
       "      <td>Mission</td>\n",
       "      <td>August</td>\n",
       "      <td>2004.0</td>\n",
       "      <td>z</td>\n",
       "      <td>Email</td>\n",
       "      <td>True</td>\n",
       "      <td>2004</td>\n",
       "      <td>True</td>\n",
       "    </tr>\n",
       "    <tr>\n",
       "      <th>437114</th>\n",
       "      <td>3</td>\n",
       "      <td>Senior</td>\n",
       "      <td>3</td>\n",
       "      <td>9</td>\n",
       "      <td>65 to 74 years</td>\n",
       "      <td>p9</td>\n",
       "      <td>Presidio</td>\n",
       "      <td>August</td>\n",
       "      <td>2004.0</td>\n",
       "      <td>z</td>\n",
       "      <td>Email</td>\n",
       "      <td>True</td>\n",
       "      <td>2004</td>\n",
       "      <td>True</td>\n",
       "    </tr>\n",
       "  </tbody>\n",
       "</table>\n",
       "<p>437115 rows × 14 columns</p>\n",
       "</div>"
      ],
      "text/plain": [
       "        Patron Type Code Patron Type Definition  Total Checkouts  \\\n",
       "0                      1               Juvenile                0   \n",
       "1                      2                   Teen                0   \n",
       "2                      0                  Adult                0   \n",
       "3                      2                   Teen                0   \n",
       "4                      2                   Teen                0   \n",
       "...                  ...                    ...              ...   \n",
       "437110                 0                  Adult               14   \n",
       "437111                 0                  Adult                2   \n",
       "437112                 3                 Senior                5   \n",
       "437113                 3                 Senior                4   \n",
       "437114                 3                 Senior                3   \n",
       "\n",
       "        Total Renewals          Age Range Home Library Code  \\\n",
       "0                    0       0 to 9 years                r3   \n",
       "1                    0     10 to 19 years                 x   \n",
       "2                    0     35 to 44 years                m4   \n",
       "3                    0     10 to 19 years                 x   \n",
       "4                    0     10 to 19 years                b2   \n",
       "...                ...                ...               ...   \n",
       "437110              11     45 to 54 years                 x   \n",
       "437111               0     45 to 54 years                 x   \n",
       "437112               0  75 years and over                e7   \n",
       "437113               0     65 to 74 years                m6   \n",
       "437114               9     65 to 74 years                p9   \n",
       "\n",
       "       Home Library Definition Circulation Active Month  \\\n",
       "0                     Richmond                      NaN   \n",
       "1                         Main                      NaN   \n",
       "2                       Merced                      NaN   \n",
       "3                         Main                      NaN   \n",
       "4                      Bayview                      NaN   \n",
       "...                        ...                      ...   \n",
       "437110                    Main                   August   \n",
       "437111                    Main                   August   \n",
       "437112           Eureka Valley                   August   \n",
       "437113                 Mission                   August   \n",
       "437114                Presidio                   August   \n",
       "\n",
       "        Circulation Active Year Notice Preference Code  \\\n",
       "0                           NaN                      z   \n",
       "1                           NaN                      z   \n",
       "2                           NaN                      z   \n",
       "3                           NaN                      z   \n",
       "4                           NaN                      z   \n",
       "...                         ...                    ...   \n",
       "437110                   2004.0                      z   \n",
       "437111                   2004.0                      z   \n",
       "437112                   2004.0                      p   \n",
       "437113                   2004.0                      z   \n",
       "437114                   2004.0                      z   \n",
       "\n",
       "       Notice Preference Definition  Provided Email Address  \\\n",
       "0                             Email                    True   \n",
       "1                             Email                    True   \n",
       "2                             Email                    True   \n",
       "3                             Email                    True   \n",
       "4                             Email                    True   \n",
       "...                             ...                     ...   \n",
       "437110                        Email                    True   \n",
       "437111                        Email                    True   \n",
       "437112                        Phone                   False   \n",
       "437113                        Email                    True   \n",
       "437114                        Email                    True   \n",
       "\n",
       "        Year Patron Registered  Within San Francisco County  \n",
       "0                         2022                         True  \n",
       "1                         2022                         True  \n",
       "2                         2019                         True  \n",
       "3                         2021                         True  \n",
       "4                         2013                         True  \n",
       "...                        ...                          ...  \n",
       "437110                    2003                        False  \n",
       "437111                    2003                         True  \n",
       "437112                    2003                         True  \n",
       "437113                    2004                         True  \n",
       "437114                    2004                         True  \n",
       "\n",
       "[437115 rows x 14 columns]"
      ]
     },
     "execution_count": 5,
     "metadata": {},
     "output_type": "execute_result"
    }
   ],
   "source": [
    "data"
   ]
  },
  {
   "cell_type": "markdown",
   "id": "90780935",
   "metadata": {},
   "source": [
    "+ Wie viele Merkmale besitzt der Datensatz?\n",
    " 13 Spalten\n",
    " davon 3 Spalten, die den Code für eine weitere Spalte zeigen\n",
    " das bedeutet es sind 10 Merkmale\n",
    " df.info()\n",
    "+ Wie groß ist die Stichprobengröße des Datensatzes?\n",
    " 437115\n",
    " df.info()\n",
    "+ Wer oder was sind die Merkmalsträger?\n",
    " Nutzende der Städtischen Bibliotheken\n",
    "+ Von wann bis wann wurden die Daten erhoben?\n",
    " Seit 2004 werden die Daten erhoben, seit einem Systemwechsel - steht in der Excel-Tabelle, bis 2022\n",
    " df.max()\n",
    "+ Wie lässt sich die Grundgesamtheit beschreiben? Handelt es sich um eine Vollerhebung?\n",
    " Die Grundgesamtheit sind alle eingeschriebenen Nutzer:innen, insofern Vollerhebung. Weil nicht alle Merkmale eine Ausprägung haben (nicht alle leihen aus oder haben eine Altersangabe (age range), ist die Teilgesamtheit nur für die Menge gültig, die in allen Merkmalen eine Ausprägung haben.\n",
    "+ Welche Merkmale sind stetig? Welche diskret?\n",
    " diskret: patron type, age range, home library, notice preference, within SF county\n",
    " stetig: total checkouts, total renewals, year patron registered, circulation activity, email address\n",
    "+ Welchem Skalenniveau entsprechen die einzelnen Merkmale (Nominal-, Ordinal- oder Metrische Skala)?\n",
    " 'Patron Type Code'\n",
    " 'Patron Type Definition'\n",
    " 'Total Checkouts',\n",
    " 'Total Renewals'\n",
    " 'Age Range', 'Home Library Code'\n",
    " 'Home Library Definition'\n",
    " 'Circulation Active Month'\n",
    " 'Circulation Active Year'\n",
    " 'Notice Preference Code'\n",
    " 'Notice Preference Definition'\n",
    " 'Provided Email Address'\n",
    " 'Year Patron Registered'\n",
    " 'Within San Francisco County' \n",
    "+ Enthält der Datensatz fehlende Werte?\n",
    " ja ...\n",
    "+ Handelt es sich um Querschnitts-, Längsschnitss- oder Paneldaten?\n",
    " ..."
   ]
  },
  {
   "cell_type": "code",
   "execution_count": 9,
   "id": "7d82e9e9",
   "metadata": {},
   "outputs": [
    {
     "name": "stdout",
     "output_type": "stream",
     "text": [
      "<class 'pandas.core.frame.DataFrame'>\n",
      "RangeIndex: 437115 entries, 0 to 437114\n",
      "Data columns (total 14 columns):\n",
      " #   Column                        Non-Null Count   Dtype  \n",
      "---  ------                        --------------   -----  \n",
      " 0   Patron Type Code              437115 non-null  int64  \n",
      " 1   Patron Type Definition        437115 non-null  object \n",
      " 2   Total Checkouts               437115 non-null  int64  \n",
      " 3   Total Renewals                437115 non-null  int64  \n",
      " 4   Age Range                     436188 non-null  object \n",
      " 5   Home Library Code             437113 non-null  object \n",
      " 6   Home Library Definition       437115 non-null  object \n",
      " 7   Circulation Active Month      396523 non-null  object \n",
      " 8   Circulation Active Year       396523 non-null  float64\n",
      " 9   Notice Preference Code        437115 non-null  object \n",
      " 10  Notice Preference Definition  437115 non-null  object \n",
      " 11  Provided Email Address        437115 non-null  bool   \n",
      " 12  Year Patron Registered        437115 non-null  int64  \n",
      " 13  Within San Francisco County   437115 non-null  bool   \n",
      "dtypes: bool(2), float64(1), int64(4), object(7)\n",
      "memory usage: 40.9+ MB\n"
     ]
    }
   ],
   "source": [
    "data.info()"
   ]
  },
  {
   "cell_type": "code",
   "execution_count": 17,
   "id": "30b012ce",
   "metadata": {},
   "outputs": [
    {
     "data": {
      "text/plain": [
       "pandas.core.frame.DataFrame"
      ]
     },
     "execution_count": 17,
     "metadata": {},
     "output_type": "execute_result"
    }
   ],
   "source": [
    "type(data)"
   ]
  },
  {
   "cell_type": "code",
   "execution_count": 25,
   "id": "b9061e7b",
   "metadata": {},
   "outputs": [
    {
     "data": {
      "text/plain": [
       "Index(['Patron Type Code', 'Patron Type Definition', 'Total Checkouts',\n",
       "       'Total Renewals', 'Age Range', 'Home Library Code',\n",
       "       'Home Library Definition', 'Circulation Active Month',\n",
       "       'Circulation Active Year', 'Notice Preference Code',\n",
       "       'Notice Preference Definition', 'Provided Email Address',\n",
       "       'Year Patron Registered', 'Within San Francisco County'],\n",
       "      dtype='object')"
      ]
     },
     "execution_count": 25,
     "metadata": {},
     "output_type": "execute_result"
    }
   ],
   "source": [
    "data.columns"
   ]
  },
  {
   "cell_type": "code",
   "execution_count": 30,
   "id": "3b945df0",
   "metadata": {},
   "outputs": [
    {
     "data": {
      "text/plain": [
       "array(['Juvenile', 'Teen', 'Adult', 'Senior', 'Welcome',\n",
       "       'Digital Access Card', 'Bibliocommons', 'Teacher Card',\n",
       "       'Library By Mail', 'Staff', 'At User Senior', 'At User Adult',\n",
       "       'Visitor', 'Retired Staff', 'At User Welcome', 'At User Juvenile',\n",
       "       'Business', 'At User Teen'], dtype=object)"
      ]
     },
     "execution_count": 30,
     "metadata": {},
     "output_type": "execute_result"
    }
   ],
   "source": [
    "data['Patron Type Definition'].unique()"
   ]
  },
  {
   "cell_type": "code",
   "execution_count": 41,
   "id": "0767d99a",
   "metadata": {},
   "outputs": [],
   "source": [
    "years = data['Year Patron Registered'].unique()"
   ]
  },
  {
   "cell_type": "code",
   "execution_count": 44,
   "id": "1c74746c",
   "metadata": {},
   "outputs": [
    {
     "data": {
      "text/plain": [
       "array([2022, 2019, 2021, 2013, 2014, 2020, 2015, 2017, 2007, 2016, 2018,\n",
       "       2012, 2003, 2008, 2006, 2010, 2011, 2005, 2009, 2004])"
      ]
     },
     "execution_count": 44,
     "metadata": {},
     "output_type": "execute_result"
    }
   ],
   "source": [
    "years"
   ]
  },
  {
   "cell_type": "code",
   "execution_count": 51,
   "id": "960f21fa",
   "metadata": {},
   "outputs": [
    {
     "data": {
      "text/plain": [
       "2022"
      ]
     },
     "execution_count": 51,
     "metadata": {},
     "output_type": "execute_result"
    }
   ],
   "source": [
    "years.max()"
   ]
  },
  {
   "cell_type": "code",
   "execution_count": 52,
   "id": "f51a186c",
   "metadata": {},
   "outputs": [
    {
     "data": {
      "text/plain": [
       "2003"
      ]
     },
     "execution_count": 52,
     "metadata": {},
     "output_type": "execute_result"
    }
   ],
   "source": [
    "years.min()"
   ]
  },
  {
   "cell_type": "code",
   "execution_count": null,
   "id": "f2f9b629",
   "metadata": {},
   "outputs": [],
   "source": []
  }
 ],
 "metadata": {
  "kernelspec": {
   "display_name": "Python 3 (ipykernel)",
   "language": "python",
   "name": "python3"
  },
  "language_info": {
   "codemirror_mode": {
    "name": "ipython",
    "version": 3
   },
   "file_extension": ".py",
   "mimetype": "text/x-python",
   "name": "python",
   "nbconvert_exporter": "python",
   "pygments_lexer": "ipython3",
   "version": "3.9.13"
  }
 },
 "nbformat": 4,
 "nbformat_minor": 5
}
