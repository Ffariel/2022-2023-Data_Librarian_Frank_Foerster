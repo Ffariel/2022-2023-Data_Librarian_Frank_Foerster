{
 "cells": [
  {
   "cell_type": "markdown",
   "id": "bff16f51",
   "metadata": {},
   "source": [
    "# Conditionals = Bedingte Anweisungen"
   ]
  },
  {
   "cell_type": "code",
   "execution_count": 6,
   "id": "0a7ff172",
   "metadata": {},
   "outputs": [],
   "source": [
    "temp = 15\n",
    "\n",
    "if temp > 20:\n",
    "    print(\"It's warm!\")"
   ]
  },
  {
   "cell_type": "code",
   "execution_count": 10,
   "id": "7367c33c",
   "metadata": {},
   "outputs": [
    {
     "name": "stdout",
     "output_type": "stream",
     "text": [
      "It's cold!\n"
     ]
    }
   ],
   "source": [
    "temp = 15\n",
    "\n",
    "if temp > 20:\n",
    "    print(\"It's warm!\")\n",
    "else:\n",
    "    print(\"It's cold!\")"
   ]
  },
  {
   "cell_type": "code",
   "execution_count": 17,
   "id": "acd8d42b",
   "metadata": {},
   "outputs": [
    {
     "name": "stdout",
     "output_type": "stream",
     "text": [
      "It's warm!\n"
     ]
    }
   ],
   "source": [
    "temp = 15\n",
    "\n",
    "if temp >= 25:\n",
    "    print(\"It's hot!\")\n",
    "elif temp >= 15:\n",
    "    print(\"It's warm!\")\n",
    "else:\n",
    "    print(\"It's cold!\")"
   ]
  },
  {
   "cell_type": "code",
   "execution_count": null,
   "id": "f53f84e8",
   "metadata": {},
   "outputs": [],
   "source": []
  }
 ],
 "metadata": {
  "kernelspec": {
   "display_name": "Python 3 (ipykernel)",
   "language": "python",
   "name": "python3"
  },
  "language_info": {
   "codemirror_mode": {
    "name": "ipython",
    "version": 3
   },
   "file_extension": ".py",
   "mimetype": "text/x-python",
   "name": "python",
   "nbconvert_exporter": "python",
   "pygments_lexer": "ipython3",
   "version": "3.9.13"
  }
 },
 "nbformat": 4,
 "nbformat_minor": 5
}
